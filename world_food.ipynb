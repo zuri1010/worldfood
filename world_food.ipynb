{
 "cells": [
  {
   "cell_type": "markdown",
   "id": "c04fa49c",
   "metadata": {},
   "source": [
    "# Objectifs\n",
    "\n",
    "- Pour l'année 2017\n",
    "\n",
    "- Trouver la proportion de personnes en état de sous-nutrition ;\n",
    "\n",
    "- Trouver le nombre théorique de personnes qui pourraient être nourries ; \n",
    "\n",
    "- Trouver la disponibilité alimentaire des produits végétaux ;\n",
    "\n",
    "- Trouver l’utilisation de la disponibilité intérieure, l’alimentation animale, l'alimentation humaine."
   ]
  },
  {
   "cell_type": "markdown",
   "id": "d1b737ce",
   "metadata": {},
   "source": [
    "Importation des outils pour réaliser les calcules demandé."
   ]
  },
  {
   "cell_type": "code",
   "execution_count": 1,
   "id": "0fb5750d",
   "metadata": {},
   "outputs": [],
   "source": [
    "import pandas as pd\n",
    "import seaborn as sns\n",
    "import matplotlib.pyplot as plt\n",
    "import numpy as np"
   ]
  },
  {
   "cell_type": "markdown",
   "id": "c03fb8ac",
   "metadata": {},
   "source": [
    "- Pandas est une librairie qui nous permet d'utiliser des fonction de calcules afin de nous ramener à nos objectifs ainsi que Numpy.\n",
    "- Seaborn va nous permettre de visualiser les données plus clairement, grace à matplotlip qui permet également de visualiser les données sous formes de graphs et d'autres optiques visuels."
   ]
  },
  {
   "cell_type": "markdown",
   "id": "d10286ed",
   "metadata": {},
   "source": [
    "Importation des données à analyser."
   ]
  },
  {
   "cell_type": "code",
   "execution_count": 2,
   "id": "c53415c9",
   "metadata": {},
   "outputs": [],
   "source": [
    "population = pd.read_csv('population.csv')\n",
    "sous_nutrition = pd.read_csv('sous_nutrition.csv')\n",
    "dispo_alimentaire = pd.read_csv('dispo_alimentaire.csv')\n",
    "aide_alimentaire = pd.read_csv('aide_alimentaire.csv')"
   ]
  },
  {
   "cell_type": "markdown",
   "id": "910afa6b",
   "metadata": {},
   "source": [
    "Nos jeux de données contiennent :\n",
    "- Le nombre de population dans chaque pays pour une période donnée.\n",
    "- Le nombre de personnes en sous_nutrition par pays et par période.\n",
    "- La disponibilité alimentaire pour l'année 2017 par pays, le produit, la disponibilité de la composition de ce dernier en 4 variables, 10 variables utiles pour connaitre le moyen d'aquisition de la disponibilité alimentaire et l'origine du produit (animale ou végétale).\n",
    "- Les pays bénéficiaires de l'aide alimentaire, le produit et sa quantité."
   ]
  },
  {
   "cell_type": "markdown",
   "id": "9bdc035f",
   "metadata": {},
   "source": [
    "## Identifier les types de mes variables et Corriger le format des colonnes pour chaques fichiers."
   ]
  },
  {
   "cell_type": "markdown",
   "id": "b6b2e333",
   "metadata": {},
   "source": [
    "#### Fichier 1"
   ]
  },
  {
   "cell_type": "code",
   "execution_count": 3,
   "id": "ecd9a0bf",
   "metadata": {},
   "outputs": [
    {
     "name": "stdout",
     "output_type": "stream",
     "text": [
      "<class 'pandas.core.frame.DataFrame'>\n",
      "RangeIndex: 1416 entries, 0 to 1415\n",
      "Data columns (total 3 columns):\n",
      " #   Column  Non-Null Count  Dtype  \n",
      "---  ------  --------------  -----  \n",
      " 0   Zone    1416 non-null   object \n",
      " 1   Année   1416 non-null   int64  \n",
      " 2   Valeur  1416 non-null   float64\n",
      "dtypes: float64(1), int64(1), object(1)\n",
      "memory usage: 33.3+ KB\n"
     ]
    }
   ],
   "source": [
    "population.info()"
   ]
  },
  {
   "cell_type": "markdown",
   "id": "3c4b9716",
   "metadata": {},
   "source": [
    "- Dans notre jeu de données, on n'a pas des valeurs manquantes : il y a 1416 lignes pour chaques variables\n",
    "- Les types de variables sont corrects"
   ]
  },
  {
   "cell_type": "markdown",
   "id": "7c678e11",
   "metadata": {},
   "source": [
    "Je vais procéder à la renomination des noms de colonne :"
   ]
  },
  {
   "cell_type": "code",
   "execution_count": 4,
   "id": "ec4d974e",
   "metadata": {},
   "outputs": [
    {
     "data": {
      "text/html": [
       "<div>\n",
       "<style scoped>\n",
       "    .dataframe tbody tr th:only-of-type {\n",
       "        vertical-align: middle;\n",
       "    }\n",
       "\n",
       "    .dataframe tbody tr th {\n",
       "        vertical-align: top;\n",
       "    }\n",
       "\n",
       "    .dataframe thead th {\n",
       "        text-align: right;\n",
       "    }\n",
       "</style>\n",
       "<table border=\"1\" class=\"dataframe\">\n",
       "  <thead>\n",
       "    <tr style=\"text-align: right;\">\n",
       "      <th></th>\n",
       "      <th>pays</th>\n",
       "      <th>annee</th>\n",
       "      <th>nb_population</th>\n",
       "    </tr>\n",
       "  </thead>\n",
       "  <tbody>\n",
       "    <tr>\n",
       "      <th>0</th>\n",
       "      <td>Afghanistan</td>\n",
       "      <td>2013</td>\n",
       "      <td>32269.589</td>\n",
       "    </tr>\n",
       "    <tr>\n",
       "      <th>1</th>\n",
       "      <td>Afghanistan</td>\n",
       "      <td>2014</td>\n",
       "      <td>33370.794</td>\n",
       "    </tr>\n",
       "    <tr>\n",
       "      <th>2</th>\n",
       "      <td>Afghanistan</td>\n",
       "      <td>2015</td>\n",
       "      <td>34413.603</td>\n",
       "    </tr>\n",
       "    <tr>\n",
       "      <th>3</th>\n",
       "      <td>Afghanistan</td>\n",
       "      <td>2016</td>\n",
       "      <td>35383.032</td>\n",
       "    </tr>\n",
       "  </tbody>\n",
       "</table>\n",
       "</div>"
      ],
      "text/plain": [
       "          pays  annee  nb_population\n",
       "0  Afghanistan   2013      32269.589\n",
       "1  Afghanistan   2014      33370.794\n",
       "2  Afghanistan   2015      34413.603\n",
       "3  Afghanistan   2016      35383.032"
      ]
     },
     "execution_count": 4,
     "metadata": {},
     "output_type": "execute_result"
    }
   ],
   "source": [
    "population = population.rename(columns={\"Zone\": \"pays\", \"Année\": \"annee\", \"Valeur\": \"nb_population\"})\n",
    "population.head(4)"
   ]
  },
  {
   "cell_type": "markdown",
   "id": "cbddca3d",
   "metadata": {},
   "source": [
    "j'ai donc remplacer \"Zone\" par \"pays\", \"Année\" par \"annee\" et \"Valeur\" par \"nb_population\" pour plus de clareter."
   ]
  },
  {
   "cell_type": "markdown",
   "id": "bbe9b8d5",
   "metadata": {},
   "source": [
    "Je vais procéder à la correction de l'affichage de la valeur qui correspond au nombre de population"
   ]
  },
  {
   "cell_type": "code",
   "execution_count": 5,
   "id": "0946137f",
   "metadata": {},
   "outputs": [
    {
     "data": {
      "text/plain": [
       "<bound method DataFrame.info of              pays  annee  nb_population\n",
       "0     Afghanistan   2013     32269589.0\n",
       "1     Afghanistan   2014     33370794.0\n",
       "2     Afghanistan   2015     34413603.0\n",
       "3     Afghanistan   2016     35383032.0\n",
       "4     Afghanistan   2017     36296113.0\n",
       "...           ...    ...            ...\n",
       "1411     Zimbabwe   2014     13586707.0\n",
       "1412     Zimbabwe   2015     13814629.0\n",
       "1413     Zimbabwe   2016     14030331.0\n",
       "1414     Zimbabwe   2017     14236595.0\n",
       "1415     Zimbabwe   2018     14438802.0\n",
       "\n",
       "[1416 rows x 3 columns]>"
      ]
     },
     "execution_count": 5,
     "metadata": {},
     "output_type": "execute_result"
    }
   ],
   "source": [
    "population['nb_population'] = population['nb_population'] * 1000\n",
    "population.info"
   ]
  },
  {
   "cell_type": "markdown",
   "id": "8064d03f",
   "metadata": {},
   "source": [
    "Je vais procéder a rendre le nombre de population en chiffre entier."
   ]
  },
  {
   "cell_type": "code",
   "execution_count": 6,
   "id": "82f8a96e",
   "metadata": {},
   "outputs": [
    {
     "data": {
      "text/plain": [
       "<bound method DataFrame.info of              pays  annee  nb_population\n",
       "0     Afghanistan   2013       32269589\n",
       "1     Afghanistan   2014       33370794\n",
       "2     Afghanistan   2015       34413603\n",
       "3     Afghanistan   2016       35383032\n",
       "4     Afghanistan   2017       36296113\n",
       "...           ...    ...            ...\n",
       "1411     Zimbabwe   2014       13586707\n",
       "1412     Zimbabwe   2015       13814629\n",
       "1413     Zimbabwe   2016       14030331\n",
       "1414     Zimbabwe   2017       14236595\n",
       "1415     Zimbabwe   2018       14438802\n",
       "\n",
       "[1416 rows x 3 columns]>"
      ]
     },
     "execution_count": 6,
     "metadata": {},
     "output_type": "execute_result"
    }
   ],
   "source": [
    "population['nb_population'] = population['nb_population'].astype(int)\n",
    "population.info"
   ]
  },
  {
   "cell_type": "markdown",
   "id": "bebf2e99",
   "metadata": {},
   "source": [
    "Il n y a plus de decimal."
   ]
  },
  {
   "cell_type": "markdown",
   "id": "31578e98",
   "metadata": {},
   "source": [
    "#### Fichier 2"
   ]
  },
  {
   "cell_type": "code",
   "execution_count": 7,
   "id": "c2ceddee",
   "metadata": {},
   "outputs": [
    {
     "name": "stdout",
     "output_type": "stream",
     "text": [
      "<class 'pandas.core.frame.DataFrame'>\n",
      "RangeIndex: 1218 entries, 0 to 1217\n",
      "Data columns (total 3 columns):\n",
      " #   Column  Non-Null Count  Dtype \n",
      "---  ------  --------------  ----- \n",
      " 0   Zone    1218 non-null   object\n",
      " 1   Année   1218 non-null   object\n",
      " 2   Valeur  624 non-null    object\n",
      "dtypes: object(3)\n",
      "memory usage: 28.7+ KB\n"
     ]
    }
   ],
   "source": [
    "sous_nutrition.info()"
   ]
  },
  {
   "cell_type": "markdown",
   "id": "3699e903",
   "metadata": {},
   "source": [
    "- Les types de données sont incorrect.\n",
    "- Il y a des valeurs manquantes dans la colonne \"Valeur\"."
   ]
  },
  {
   "cell_type": "markdown",
   "id": "f3763941",
   "metadata": {},
   "source": [
    "Je vais procéder à renomer les collonnes."
   ]
  },
  {
   "cell_type": "code",
   "execution_count": 8,
   "id": "a21867cc",
   "metadata": {},
   "outputs": [
    {
     "data": {
      "text/html": [
       "<div>\n",
       "<style scoped>\n",
       "    .dataframe tbody tr th:only-of-type {\n",
       "        vertical-align: middle;\n",
       "    }\n",
       "\n",
       "    .dataframe tbody tr th {\n",
       "        vertical-align: top;\n",
       "    }\n",
       "\n",
       "    .dataframe thead th {\n",
       "        text-align: right;\n",
       "    }\n",
       "</style>\n",
       "<table border=\"1\" class=\"dataframe\">\n",
       "  <thead>\n",
       "    <tr style=\"text-align: right;\">\n",
       "      <th></th>\n",
       "      <th>pays</th>\n",
       "      <th>annee</th>\n",
       "      <th>nb_ss_alimente</th>\n",
       "    </tr>\n",
       "  </thead>\n",
       "  <tbody>\n",
       "    <tr>\n",
       "      <th>0</th>\n",
       "      <td>Afghanistan</td>\n",
       "      <td>2012-2014</td>\n",
       "      <td>8.6</td>\n",
       "    </tr>\n",
       "    <tr>\n",
       "      <th>1</th>\n",
       "      <td>Afghanistan</td>\n",
       "      <td>2013-2015</td>\n",
       "      <td>8.8</td>\n",
       "    </tr>\n",
       "    <tr>\n",
       "      <th>2</th>\n",
       "      <td>Afghanistan</td>\n",
       "      <td>2014-2016</td>\n",
       "      <td>8.9</td>\n",
       "    </tr>\n",
       "    <tr>\n",
       "      <th>3</th>\n",
       "      <td>Afghanistan</td>\n",
       "      <td>2015-2017</td>\n",
       "      <td>9.7</td>\n",
       "    </tr>\n",
       "    <tr>\n",
       "      <th>4</th>\n",
       "      <td>Afghanistan</td>\n",
       "      <td>2016-2018</td>\n",
       "      <td>10.5</td>\n",
       "    </tr>\n",
       "  </tbody>\n",
       "</table>\n",
       "</div>"
      ],
      "text/plain": [
       "          pays      annee nb_ss_alimente\n",
       "0  Afghanistan  2012-2014            8.6\n",
       "1  Afghanistan  2013-2015            8.8\n",
       "2  Afghanistan  2014-2016            8.9\n",
       "3  Afghanistan  2015-2017            9.7\n",
       "4  Afghanistan  2016-2018           10.5"
      ]
     },
     "execution_count": 8,
     "metadata": {},
     "output_type": "execute_result"
    }
   ],
   "source": [
    "sous_nutrition = sous_nutrition.rename(columns={\"Zone\": \"pays\", \"Année\": \"annee\", \"Valeur\": \"nb_ss_alimente\"})\n",
    "sous_nutrition.head(5)"
   ]
  },
  {
   "cell_type": "code",
   "execution_count": 9,
   "id": "c358b52a",
   "metadata": {
    "scrolled": true
   },
   "outputs": [
    {
     "data": {
      "text/plain": [
       "pays              object\n",
       "annee             object\n",
       "nb_ss_alimente    object\n",
       "dtype: object"
      ]
     },
     "execution_count": 9,
     "metadata": {},
     "output_type": "execute_result"
    }
   ],
   "source": [
    "sous_nutrition.dtypes"
   ]
  },
  {
   "cell_type": "code",
   "execution_count": 10,
   "id": "9e7d69ee",
   "metadata": {
    "scrolled": false
   },
   "outputs": [
    {
     "data": {
      "text/plain": [
       "array(['2012-2014', '2013-2015', '2014-2016', '2015-2017', '2016-2018',\n",
       "       '2017-2019'], dtype=object)"
      ]
     },
     "execution_count": 10,
     "metadata": {},
     "output_type": "execute_result"
    }
   ],
   "source": [
    "# Les périodes couvertes\n",
    "sous_nutrition['annee'].unique()"
   ]
  },
  {
   "cell_type": "code",
   "execution_count": 11,
   "id": "9794932a",
   "metadata": {},
   "outputs": [],
   "source": [
    "sous_nutrition['annee'] = sous_nutrition['annee'].replace(['2012-2014', '2013-2015', '2014-2016', '2015-2017', '2016-2018', '2017-2019'],[2013, 2014, 2015, 2016, 2017, 2018])\n"
   ]
  },
  {
   "cell_type": "code",
   "execution_count": 12,
   "id": "7099e177",
   "metadata": {
    "scrolled": true
   },
   "outputs": [
    {
     "data": {
      "text/plain": [
       "pays              object\n",
       "annee              int64\n",
       "nb_ss_alimente    object\n",
       "dtype: object"
      ]
     },
     "execution_count": 12,
     "metadata": {},
     "output_type": "execute_result"
    }
   ],
   "source": [
    "# L'année' doit être un entier\n",
    "sous_nutrition['annee'] = sous_nutrition['annee'].astype(int)\n",
    "sous_nutrition.dtypes"
   ]
  },
  {
   "cell_type": "code",
   "execution_count": 13,
   "id": "3bd8d823",
   "metadata": {
    "scrolled": true
   },
   "outputs": [
    {
     "data": {
      "text/html": [
       "<div>\n",
       "<style scoped>\n",
       "    .dataframe tbody tr th:only-of-type {\n",
       "        vertical-align: middle;\n",
       "    }\n",
       "\n",
       "    .dataframe tbody tr th {\n",
       "        vertical-align: top;\n",
       "    }\n",
       "\n",
       "    .dataframe thead th {\n",
       "        text-align: right;\n",
       "    }\n",
       "</style>\n",
       "<table border=\"1\" class=\"dataframe\">\n",
       "  <thead>\n",
       "    <tr style=\"text-align: right;\">\n",
       "      <th></th>\n",
       "      <th>pays</th>\n",
       "      <th>annee</th>\n",
       "      <th>nb_ss_alimente</th>\n",
       "    </tr>\n",
       "  </thead>\n",
       "  <tbody>\n",
       "    <tr>\n",
       "      <th>0</th>\n",
       "      <td>Afghanistan</td>\n",
       "      <td>2013</td>\n",
       "      <td>8.6</td>\n",
       "    </tr>\n",
       "    <tr>\n",
       "      <th>1</th>\n",
       "      <td>Afghanistan</td>\n",
       "      <td>2014</td>\n",
       "      <td>8.8</td>\n",
       "    </tr>\n",
       "    <tr>\n",
       "      <th>2</th>\n",
       "      <td>Afghanistan</td>\n",
       "      <td>2015</td>\n",
       "      <td>8.9</td>\n",
       "    </tr>\n",
       "    <tr>\n",
       "      <th>3</th>\n",
       "      <td>Afghanistan</td>\n",
       "      <td>2016</td>\n",
       "      <td>9.7</td>\n",
       "    </tr>\n",
       "    <tr>\n",
       "      <th>4</th>\n",
       "      <td>Afghanistan</td>\n",
       "      <td>2017</td>\n",
       "      <td>10.5</td>\n",
       "    </tr>\n",
       "  </tbody>\n",
       "</table>\n",
       "</div>"
      ],
      "text/plain": [
       "          pays  annee nb_ss_alimente\n",
       "0  Afghanistan   2013            8.6\n",
       "1  Afghanistan   2014            8.8\n",
       "2  Afghanistan   2015            8.9\n",
       "3  Afghanistan   2016            9.7\n",
       "4  Afghanistan   2017           10.5"
      ]
     },
     "execution_count": 13,
     "metadata": {},
     "output_type": "execute_result"
    }
   ],
   "source": [
    "sous_nutrition.head(5)"
   ]
  },
  {
   "cell_type": "code",
   "execution_count": 14,
   "id": "adaa04e6",
   "metadata": {},
   "outputs": [
    {
     "data": {
      "text/plain": [
       "array(['8.6', '8.8', '8.9', '9.7', '10.5', '11.1', '2.2', '2.5', '2.8',\n",
       "       '3', '3.1', '3.3', '0.1', '1.3', '1.2', nan, '7.6', '6.2', '5.3',\n",
       "       '5.6', '5.8', '5.7', '1.5', '1.6', '1.1', '1.7', '<0.1', '21.7',\n",
       "       '22.4', '23.3', '22.3', '21.5', '20.9', '0.8', '2', '1.9', '1.8',\n",
       "       '0.4', '0.5', '0.3', '0.2', '3.2', '3.4', '3.6', '3.8', '2.1',\n",
       "       '2.3', '2.4', '0.6', '0.7', '0.9', '3.9', '2.7', '1.4', '4.8',\n",
       "       '4.6', '4.9', '5', '4.4', '4.3', '4.2', '4.5', '26.2', '24.3',\n",
       "       '21.3', '21.1', '2.9', '5.1', '5.2', '5.4', '203.8', '198.3',\n",
       "       '193.1', '190.9', '190.1', '189.2', '23.6', '24', '24.1', '3.7',\n",
       "       '7.3', '7.8', '8.4', '9', '9.1', '10.1', '10', '10.7', '11.5',\n",
       "       '11.9', '11.8', '8.7', '10.3', '11', '1', '5.5', '6.8', '7.9',\n",
       "       '5.9', '7', '9.2', '9.4', '9.6', '6.7', '7.1', '7.2', '14.7',\n",
       "       '17.4', '20.2', '22.2', '22.8', '24.6', '31.1', '28.5', '25.4',\n",
       "       '24.8', '26.1', '14.5', '15.4', '16.5', '15.8', '15.7', '10.8',\n",
       "       '11.2', '11.6', '12', '12.2', '13.5', '13.2', '12.8', '13', '13.4',\n",
       "       '14.1', '4.1', '6.1', '6', '6.5', '2.6', '8', '8.3'], dtype=object)"
      ]
     },
     "execution_count": 14,
     "metadata": {},
     "output_type": "execute_result"
    }
   ],
   "source": [
    "# Il existe une valeur abérante : <0.1 dans le nombre total\n",
    "sous_nutrition['nb_ss_alimente'].unique()"
   ]
  },
  {
   "cell_type": "code",
   "execution_count": 15,
   "id": "b7d24826",
   "metadata": {},
   "outputs": [],
   "source": [
    "# Convertir <0.1 en 0.05 (la moyenne car la valeur existe)\n",
    "sous_nutrition.loc[sous_nutrition['nb_ss_alimente'] ==\"<0.1\", 'nb_ss_alimente'] = 0.05"
   ]
  },
  {
   "cell_type": "code",
   "execution_count": 16,
   "id": "2acfa08d",
   "metadata": {},
   "outputs": [
    {
     "data": {
      "text/plain": [
       "array(['8.6', '8.8', '8.9', '9.7', '10.5', '11.1', '2.2', '2.5', '2.8',\n",
       "       '3', '3.1', '3.3', '0.1', '1.3', '1.2', nan, '7.6', '6.2', '5.3',\n",
       "       '5.6', '5.8', '5.7', '1.5', '1.6', '1.1', '1.7', 0.05, '21.7',\n",
       "       '22.4', '23.3', '22.3', '21.5', '20.9', '0.8', '2', '1.9', '1.8',\n",
       "       '0.4', '0.5', '0.3', '0.2', '3.2', '3.4', '3.6', '3.8', '2.1',\n",
       "       '2.3', '2.4', '0.6', '0.7', '0.9', '3.9', '2.7', '1.4', '4.8',\n",
       "       '4.6', '4.9', '5', '4.4', '4.3', '4.2', '4.5', '26.2', '24.3',\n",
       "       '21.3', '21.1', '2.9', '5.1', '5.2', '5.4', '203.8', '198.3',\n",
       "       '193.1', '190.9', '190.1', '189.2', '23.6', '24', '24.1', '3.7',\n",
       "       '7.3', '7.8', '8.4', '9', '9.1', '10.1', '10', '10.7', '11.5',\n",
       "       '11.9', '11.8', '8.7', '10.3', '11', '1', '5.5', '6.8', '7.9',\n",
       "       '5.9', '7', '9.2', '9.4', '9.6', '6.7', '7.1', '7.2', '14.7',\n",
       "       '17.4', '20.2', '22.2', '22.8', '24.6', '31.1', '28.5', '25.4',\n",
       "       '24.8', '26.1', '14.5', '15.4', '16.5', '15.8', '15.7', '10.8',\n",
       "       '11.2', '11.6', '12', '12.2', '13.5', '13.2', '12.8', '13', '13.4',\n",
       "       '14.1', '4.1', '6.1', '6', '6.5', '2.6', '8', '8.3'], dtype=object)"
      ]
     },
     "execution_count": 16,
     "metadata": {},
     "output_type": "execute_result"
    }
   ],
   "source": [
    "# Vérification OK\n",
    "sous_nutrition['nb_ss_alimente'].unique()"
   ]
  },
  {
   "cell_type": "code",
   "execution_count": 17,
   "id": "956ea671",
   "metadata": {},
   "outputs": [
    {
     "data": {
      "text/plain": [
       "pays               object\n",
       "annee               int64\n",
       "nb_ss_alimente    float64\n",
       "dtype: object"
      ]
     },
     "execution_count": 17,
     "metadata": {},
     "output_type": "execute_result"
    }
   ],
   "source": [
    "# Convertir en float\n",
    "sous_nutrition['nb_ss_alimente'] = sous_nutrition['nb_ss_alimente'].astype(float)\n",
    "sous_nutrition.dtypes"
   ]
  },
  {
   "cell_type": "code",
   "execution_count": 18,
   "id": "91264a37",
   "metadata": {
    "scrolled": true
   },
   "outputs": [
    {
     "data": {
      "text/plain": [
       "<bound method DataFrame.info of              pays  annee  nb_ss_alimente\n",
       "0     Afghanistan   2013       8600000.0\n",
       "1     Afghanistan   2014       8800000.0\n",
       "2     Afghanistan   2015       8900000.0\n",
       "3     Afghanistan   2016       9700000.0\n",
       "4     Afghanistan   2017      10500000.0\n",
       "...           ...    ...             ...\n",
       "1213     Zimbabwe   2014             NaN\n",
       "1214     Zimbabwe   2015             NaN\n",
       "1215     Zimbabwe   2016             NaN\n",
       "1216     Zimbabwe   2017             NaN\n",
       "1217     Zimbabwe   2018             NaN\n",
       "\n",
       "[1218 rows x 3 columns]>"
      ]
     },
     "execution_count": 18,
     "metadata": {},
     "output_type": "execute_result"
    }
   ],
   "source": [
    "# Convertir le nombre de population qui est en million\n",
    "sous_nutrition['nb_ss_alimente'] = sous_nutrition['nb_ss_alimente'] * 1000000\n",
    "sous_nutrition.info"
   ]
  },
  {
   "cell_type": "code",
   "execution_count": 19,
   "id": "85d8a0f0",
   "metadata": {},
   "outputs": [],
   "source": [
    "# La nombre doit être un entier\n",
    "sous_nutrition['nb_ss_alimente'] = pd.to_numeric(sous_nutrition['nb_ss_alimente'], errors='coerce').fillna(0).astype(int)"
   ]
  },
  {
   "cell_type": "code",
   "execution_count": 20,
   "id": "9155d379",
   "metadata": {},
   "outputs": [
    {
     "data": {
      "text/plain": [
       "pays              object\n",
       "annee              int64\n",
       "nb_ss_alimente     int64\n",
       "dtype: object"
      ]
     },
     "execution_count": 20,
     "metadata": {},
     "output_type": "execute_result"
    }
   ],
   "source": [
    "sous_nutrition.dtypes"
   ]
  },
  {
   "cell_type": "code",
   "execution_count": 21,
   "id": "07bc9d7f",
   "metadata": {},
   "outputs": [
    {
     "data": {
      "text/plain": [
       "<bound method DataFrame.info of              pays  annee  nb_ss_alimente\n",
       "0     Afghanistan   2013         8600000\n",
       "1     Afghanistan   2014         8800000\n",
       "2     Afghanistan   2015         8900000\n",
       "3     Afghanistan   2016         9700000\n",
       "4     Afghanistan   2017        10500000\n",
       "...           ...    ...             ...\n",
       "1213     Zimbabwe   2014               0\n",
       "1214     Zimbabwe   2015               0\n",
       "1215     Zimbabwe   2016               0\n",
       "1216     Zimbabwe   2017               0\n",
       "1217     Zimbabwe   2018               0\n",
       "\n",
       "[1218 rows x 3 columns]>"
      ]
     },
     "execution_count": 21,
     "metadata": {},
     "output_type": "execute_result"
    }
   ],
   "source": [
    "sous_nutrition.info"
   ]
  },
  {
   "cell_type": "markdown",
   "id": "84270722",
   "metadata": {},
   "source": [
    "#### Fichier 3"
   ]
  },
  {
   "cell_type": "code",
   "execution_count": 22,
   "id": "61f6d6c7",
   "metadata": {},
   "outputs": [
    {
     "name": "stdout",
     "output_type": "stream",
     "text": [
      "<class 'pandas.core.frame.DataFrame'>\n",
      "RangeIndex: 15605 entries, 0 to 15604\n",
      "Data columns (total 18 columns):\n",
      " #   Column                                                         Non-Null Count  Dtype  \n",
      "---  ------                                                         --------------  -----  \n",
      " 0   Zone                                                           15605 non-null  object \n",
      " 1   Produit                                                        15605 non-null  object \n",
      " 2   Origine                                                        15605 non-null  object \n",
      " 3   Aliments pour animaux                                          2720 non-null   float64\n",
      " 4   Autres Utilisations                                            5496 non-null   float64\n",
      " 5   Disponibilité alimentaire (Kcal/personne/jour)                 14241 non-null  float64\n",
      " 6   Disponibilité alimentaire en quantité (kg/personne/an)         14015 non-null  float64\n",
      " 7   Disponibilité de matière grasse en quantité (g/personne/jour)  11794 non-null  float64\n",
      " 8   Disponibilité de protéines en quantité (g/personne/jour)       11561 non-null  float64\n",
      " 9   Disponibilité intérieure                                       15382 non-null  float64\n",
      " 10  Exportations - Quantité                                        12226 non-null  float64\n",
      " 11  Importations - Quantité                                        14852 non-null  float64\n",
      " 12  Nourriture                                                     14015 non-null  float64\n",
      " 13  Pertes                                                         4278 non-null   float64\n",
      " 14  Production                                                     9180 non-null   float64\n",
      " 15  Semences                                                       2091 non-null   float64\n",
      " 16  Traitement                                                     2292 non-null   float64\n",
      " 17  Variation de stock                                             6776 non-null   float64\n",
      "dtypes: float64(15), object(3)\n",
      "memory usage: 2.1+ MB\n"
     ]
    }
   ],
   "source": [
    "dispo_alimentaire.info()"
   ]
  },
  {
   "cell_type": "markdown",
   "id": "097b5ba6",
   "metadata": {},
   "source": [
    "- Beaucoup de valeurs manquantes dans de nombreuses colonnes\n",
    "- Les types de variables ne sont pas cohérents"
   ]
  },
  {
   "cell_type": "markdown",
   "id": "dc571b6c",
   "metadata": {},
   "source": [
    "inspection"
   ]
  },
  {
   "cell_type": "code",
   "execution_count": 23,
   "id": "2cb9e919",
   "metadata": {},
   "outputs": [
    {
     "data": {
      "text/html": [
       "<div>\n",
       "<style scoped>\n",
       "    .dataframe tbody tr th:only-of-type {\n",
       "        vertical-align: middle;\n",
       "    }\n",
       "\n",
       "    .dataframe tbody tr th {\n",
       "        vertical-align: top;\n",
       "    }\n",
       "\n",
       "    .dataframe thead th {\n",
       "        text-align: right;\n",
       "    }\n",
       "</style>\n",
       "<table border=\"1\" class=\"dataframe\">\n",
       "  <thead>\n",
       "    <tr style=\"text-align: right;\">\n",
       "      <th></th>\n",
       "      <th>pays</th>\n",
       "      <th>produit</th>\n",
       "      <th>origine_produit</th>\n",
       "      <th>aliments_animaux</th>\n",
       "      <th>autres_utilisations</th>\n",
       "      <th>dispo_alim_kcal_pers_j</th>\n",
       "      <th>dispo_alim_kg_pers_an</th>\n",
       "      <th>dispo_mat_grasse_g_pers_j</th>\n",
       "      <th>dispo_proteine_g_pers_j</th>\n",
       "      <th>dispo_interieure</th>\n",
       "      <th>qt_export</th>\n",
       "      <th>qt_import</th>\n",
       "      <th>nb_nourriture</th>\n",
       "      <th>perte</th>\n",
       "      <th>production</th>\n",
       "      <th>semences</th>\n",
       "      <th>traitement</th>\n",
       "      <th>variation_stock</th>\n",
       "    </tr>\n",
       "  </thead>\n",
       "  <tbody>\n",
       "    <tr>\n",
       "      <th>0</th>\n",
       "      <td>Afghanistan</td>\n",
       "      <td>Abats Comestible</td>\n",
       "      <td>animale</td>\n",
       "      <td>NaN</td>\n",
       "      <td>NaN</td>\n",
       "      <td>5.0</td>\n",
       "      <td>1.72</td>\n",
       "      <td>0.20</td>\n",
       "      <td>0.77</td>\n",
       "      <td>53.0</td>\n",
       "      <td>NaN</td>\n",
       "      <td>NaN</td>\n",
       "      <td>53.0</td>\n",
       "      <td>NaN</td>\n",
       "      <td>53.0</td>\n",
       "      <td>NaN</td>\n",
       "      <td>NaN</td>\n",
       "      <td>NaN</td>\n",
       "    </tr>\n",
       "    <tr>\n",
       "      <th>1</th>\n",
       "      <td>Afghanistan</td>\n",
       "      <td>Agrumes, Autres</td>\n",
       "      <td>vegetale</td>\n",
       "      <td>NaN</td>\n",
       "      <td>NaN</td>\n",
       "      <td>1.0</td>\n",
       "      <td>1.29</td>\n",
       "      <td>0.01</td>\n",
       "      <td>0.02</td>\n",
       "      <td>41.0</td>\n",
       "      <td>2.0</td>\n",
       "      <td>40.0</td>\n",
       "      <td>39.0</td>\n",
       "      <td>2.0</td>\n",
       "      <td>3.0</td>\n",
       "      <td>NaN</td>\n",
       "      <td>NaN</td>\n",
       "      <td>NaN</td>\n",
       "    </tr>\n",
       "    <tr>\n",
       "      <th>2</th>\n",
       "      <td>Afghanistan</td>\n",
       "      <td>Aliments pour enfants</td>\n",
       "      <td>vegetale</td>\n",
       "      <td>NaN</td>\n",
       "      <td>NaN</td>\n",
       "      <td>1.0</td>\n",
       "      <td>0.06</td>\n",
       "      <td>0.01</td>\n",
       "      <td>0.03</td>\n",
       "      <td>2.0</td>\n",
       "      <td>NaN</td>\n",
       "      <td>2.0</td>\n",
       "      <td>2.0</td>\n",
       "      <td>NaN</td>\n",
       "      <td>NaN</td>\n",
       "      <td>NaN</td>\n",
       "      <td>NaN</td>\n",
       "      <td>NaN</td>\n",
       "    </tr>\n",
       "    <tr>\n",
       "      <th>3</th>\n",
       "      <td>Afghanistan</td>\n",
       "      <td>Ananas</td>\n",
       "      <td>vegetale</td>\n",
       "      <td>NaN</td>\n",
       "      <td>NaN</td>\n",
       "      <td>0.0</td>\n",
       "      <td>0.00</td>\n",
       "      <td>NaN</td>\n",
       "      <td>NaN</td>\n",
       "      <td>0.0</td>\n",
       "      <td>NaN</td>\n",
       "      <td>0.0</td>\n",
       "      <td>0.0</td>\n",
       "      <td>NaN</td>\n",
       "      <td>NaN</td>\n",
       "      <td>NaN</td>\n",
       "      <td>NaN</td>\n",
       "      <td>NaN</td>\n",
       "    </tr>\n",
       "    <tr>\n",
       "      <th>4</th>\n",
       "      <td>Afghanistan</td>\n",
       "      <td>Bananes</td>\n",
       "      <td>vegetale</td>\n",
       "      <td>NaN</td>\n",
       "      <td>NaN</td>\n",
       "      <td>4.0</td>\n",
       "      <td>2.70</td>\n",
       "      <td>0.02</td>\n",
       "      <td>0.05</td>\n",
       "      <td>82.0</td>\n",
       "      <td>NaN</td>\n",
       "      <td>82.0</td>\n",
       "      <td>82.0</td>\n",
       "      <td>NaN</td>\n",
       "      <td>NaN</td>\n",
       "      <td>NaN</td>\n",
       "      <td>NaN</td>\n",
       "      <td>NaN</td>\n",
       "    </tr>\n",
       "  </tbody>\n",
       "</table>\n",
       "</div>"
      ],
      "text/plain": [
       "          pays                produit origine_produit  aliments_animaux  \\\n",
       "0  Afghanistan       Abats Comestible         animale               NaN   \n",
       "1  Afghanistan        Agrumes, Autres        vegetale               NaN   \n",
       "2  Afghanistan  Aliments pour enfants        vegetale               NaN   \n",
       "3  Afghanistan                 Ananas        vegetale               NaN   \n",
       "4  Afghanistan                Bananes        vegetale               NaN   \n",
       "\n",
       "   autres_utilisations  dispo_alim_kcal_pers_j  dispo_alim_kg_pers_an  \\\n",
       "0                  NaN                     5.0                   1.72   \n",
       "1                  NaN                     1.0                   1.29   \n",
       "2                  NaN                     1.0                   0.06   \n",
       "3                  NaN                     0.0                   0.00   \n",
       "4                  NaN                     4.0                   2.70   \n",
       "\n",
       "   dispo_mat_grasse_g_pers_j  dispo_proteine_g_pers_j  dispo_interieure  \\\n",
       "0                       0.20                     0.77              53.0   \n",
       "1                       0.01                     0.02              41.0   \n",
       "2                       0.01                     0.03               2.0   \n",
       "3                        NaN                      NaN               0.0   \n",
       "4                       0.02                     0.05              82.0   \n",
       "\n",
       "   qt_export  qt_import  nb_nourriture  perte  production  semences  \\\n",
       "0        NaN        NaN           53.0    NaN        53.0       NaN   \n",
       "1        2.0       40.0           39.0    2.0         3.0       NaN   \n",
       "2        NaN        2.0            2.0    NaN         NaN       NaN   \n",
       "3        NaN        0.0            0.0    NaN         NaN       NaN   \n",
       "4        NaN       82.0           82.0    NaN         NaN       NaN   \n",
       "\n",
       "   traitement  variation_stock  \n",
       "0         NaN              NaN  \n",
       "1         NaN              NaN  \n",
       "2         NaN              NaN  \n",
       "3         NaN              NaN  \n",
       "4         NaN              NaN  "
      ]
     },
     "execution_count": 23,
     "metadata": {},
     "output_type": "execute_result"
    }
   ],
   "source": [
    "dispo_alimentaire = dispo_alimentaire.rename(columns={\"Zone\": \"pays\", \"Produit\": \"produit\", \"Origine\": \"origine_produit\", \"Aliments pour animaux\": \"aliments_animaux\", \"Autres Utilisations\":\"autres_utilisations\", \"Disponibilité alimentaire (Kcal/personne/jour)\":\"dispo_alim_kcal_pers_j\", \"Disponibilité alimentaire en quantité (kg/personne/an)\":\"dispo_alim_kg_pers_an\", \"Disponibilité de matière grasse en quantité (g/personne/jour)\":\"dispo_mat_grasse_g_pers_j\", \"Disponibilité de protéines en quantité (g/personne/jour)\": \"dispo_proteine_g_pers_j\", \"Disponibilité intérieure\": \"dispo_interieure\", \"Exportations - Quantité\": \"qt_export\", \"Importations - Quantité\": \"qt_import\", \"Nourriture\": \"nb_nourriture\", \"Pertes\": \"perte\", \"Production\": \"production\", \"Semences\" : \"semences\", \"Traitement\": \"traitement\", \"Variation de stock\": \"variation_stock\"})\n",
    "dispo_alimentaire.head(5)"
   ]
  },
  {
   "cell_type": "markdown",
   "id": "fd740dd9",
   "metadata": {},
   "source": [
    "- pays : chaîne de caractères\n",
    "- produit : chaîne de caractères\n",
    "- origine_produit : chaîne de caractères\n",
    "- aliments_animaux : float\n",
    "- autres_utilisations : float\n",
    "- dispo_alim_kcal_pers_j : float\n",
    "- dispo_alim_kg_pers_an : float\n",
    "- dispo_alim_kg_pers_an : float\n",
    "- dispo_mat_grasse_g_pers_j : float\n",
    "- dispo_proteine_g_pers_j : float\n",
    "- dispo_interieure : float\n",
    "- qt_export : float\n",
    "- qt_import : float\n",
    "- nb_nourriture : float\n",
    "- perte : float\n",
    "- production : float\n",
    "- semences : float\n",
    "- traitement : float\n",
    "- variation_stock : float"
   ]
  },
  {
   "cell_type": "code",
   "execution_count": 24,
   "id": "872ab899",
   "metadata": {},
   "outputs": [
    {
     "data": {
      "text/plain": [
       "pays                         0.000000\n",
       "produit                      0.000000\n",
       "origine_produit              0.000000\n",
       "aliments_animaux             0.825697\n",
       "autres_utilisations          0.647805\n",
       "dispo_alim_kcal_pers_j       0.087408\n",
       "dispo_alim_kg_pers_an        0.101890\n",
       "dispo_mat_grasse_g_pers_j    0.244217\n",
       "dispo_proteine_g_pers_j      0.259148\n",
       "dispo_interieure             0.014290\n",
       "qt_export                    0.216533\n",
       "qt_import                    0.048254\n",
       "nb_nourriture                0.101890\n",
       "perte                        0.725857\n",
       "production                   0.411727\n",
       "semences                     0.866004\n",
       "traitement                   0.853124\n",
       "variation_stock              0.565780\n",
       "dtype: float64"
      ]
     },
     "execution_count": 24,
     "metadata": {},
     "output_type": "execute_result"
    }
   ],
   "source": [
    "dispo_alimentaire.isna().mean()"
   ]
  },
  {
   "cell_type": "markdown",
   "id": "750e3118",
   "metadata": {},
   "source": [
    "majorité des valeurs manquantes significatif."
   ]
  },
  {
   "cell_type": "code",
   "execution_count": 25,
   "id": "2b6ea9ef",
   "metadata": {},
   "outputs": [
    {
     "data": {
      "text/html": [
       "<div>\n",
       "<style scoped>\n",
       "    .dataframe tbody tr th:only-of-type {\n",
       "        vertical-align: middle;\n",
       "    }\n",
       "\n",
       "    .dataframe tbody tr th {\n",
       "        vertical-align: top;\n",
       "    }\n",
       "\n",
       "    .dataframe thead th {\n",
       "        text-align: right;\n",
       "    }\n",
       "</style>\n",
       "<table border=\"1\" class=\"dataframe\">\n",
       "  <thead>\n",
       "    <tr style=\"text-align: right;\">\n",
       "      <th></th>\n",
       "      <th>pays</th>\n",
       "      <th>produit</th>\n",
       "      <th>origine_produit</th>\n",
       "      <th>aliments_animaux</th>\n",
       "      <th>autres_utilisations</th>\n",
       "      <th>dispo_alim_kcal_pers_j</th>\n",
       "      <th>dispo_alim_kg_pers_an</th>\n",
       "      <th>dispo_mat_grasse_g_pers_j</th>\n",
       "      <th>dispo_proteine_g_pers_j</th>\n",
       "      <th>dispo_interieure</th>\n",
       "      <th>qt_export</th>\n",
       "      <th>qt_import</th>\n",
       "      <th>nb_nourriture</th>\n",
       "      <th>perte</th>\n",
       "      <th>production</th>\n",
       "      <th>semences</th>\n",
       "      <th>traitement</th>\n",
       "      <th>variation_stock</th>\n",
       "    </tr>\n",
       "  </thead>\n",
       "  <tbody>\n",
       "    <tr>\n",
       "      <th>0</th>\n",
       "      <td>Afghanistan</td>\n",
       "      <td>Abats Comestible</td>\n",
       "      <td>animale</td>\n",
       "      <td>NaN</td>\n",
       "      <td>NaN</td>\n",
       "      <td>5.0</td>\n",
       "      <td>1.72</td>\n",
       "      <td>0.20</td>\n",
       "      <td>0.77</td>\n",
       "      <td>53.0</td>\n",
       "      <td>NaN</td>\n",
       "      <td>NaN</td>\n",
       "      <td>53.0</td>\n",
       "      <td>NaN</td>\n",
       "      <td>53.0</td>\n",
       "      <td>NaN</td>\n",
       "      <td>NaN</td>\n",
       "      <td>NaN</td>\n",
       "    </tr>\n",
       "    <tr>\n",
       "      <th>1</th>\n",
       "      <td>Afghanistan</td>\n",
       "      <td>Agrumes, Autres</td>\n",
       "      <td>vegetale</td>\n",
       "      <td>NaN</td>\n",
       "      <td>NaN</td>\n",
       "      <td>1.0</td>\n",
       "      <td>1.29</td>\n",
       "      <td>0.01</td>\n",
       "      <td>0.02</td>\n",
       "      <td>41.0</td>\n",
       "      <td>2.0</td>\n",
       "      <td>40.0</td>\n",
       "      <td>39.0</td>\n",
       "      <td>2.0</td>\n",
       "      <td>3.0</td>\n",
       "      <td>NaN</td>\n",
       "      <td>NaN</td>\n",
       "      <td>NaN</td>\n",
       "    </tr>\n",
       "    <tr>\n",
       "      <th>2</th>\n",
       "      <td>Afghanistan</td>\n",
       "      <td>Aliments pour enfants</td>\n",
       "      <td>vegetale</td>\n",
       "      <td>NaN</td>\n",
       "      <td>NaN</td>\n",
       "      <td>1.0</td>\n",
       "      <td>0.06</td>\n",
       "      <td>0.01</td>\n",
       "      <td>0.03</td>\n",
       "      <td>2.0</td>\n",
       "      <td>NaN</td>\n",
       "      <td>2.0</td>\n",
       "      <td>2.0</td>\n",
       "      <td>NaN</td>\n",
       "      <td>NaN</td>\n",
       "      <td>NaN</td>\n",
       "      <td>NaN</td>\n",
       "      <td>NaN</td>\n",
       "    </tr>\n",
       "    <tr>\n",
       "      <th>3</th>\n",
       "      <td>Afghanistan</td>\n",
       "      <td>Ananas</td>\n",
       "      <td>vegetale</td>\n",
       "      <td>NaN</td>\n",
       "      <td>NaN</td>\n",
       "      <td>0.0</td>\n",
       "      <td>0.00</td>\n",
       "      <td>NaN</td>\n",
       "      <td>NaN</td>\n",
       "      <td>0.0</td>\n",
       "      <td>NaN</td>\n",
       "      <td>0.0</td>\n",
       "      <td>0.0</td>\n",
       "      <td>NaN</td>\n",
       "      <td>NaN</td>\n",
       "      <td>NaN</td>\n",
       "      <td>NaN</td>\n",
       "      <td>NaN</td>\n",
       "    </tr>\n",
       "    <tr>\n",
       "      <th>4</th>\n",
       "      <td>Afghanistan</td>\n",
       "      <td>Bananes</td>\n",
       "      <td>vegetale</td>\n",
       "      <td>NaN</td>\n",
       "      <td>NaN</td>\n",
       "      <td>4.0</td>\n",
       "      <td>2.70</td>\n",
       "      <td>0.02</td>\n",
       "      <td>0.05</td>\n",
       "      <td>82.0</td>\n",
       "      <td>NaN</td>\n",
       "      <td>82.0</td>\n",
       "      <td>82.0</td>\n",
       "      <td>NaN</td>\n",
       "      <td>NaN</td>\n",
       "      <td>NaN</td>\n",
       "      <td>NaN</td>\n",
       "      <td>NaN</td>\n",
       "    </tr>\n",
       "    <tr>\n",
       "      <th>5</th>\n",
       "      <td>Afghanistan</td>\n",
       "      <td>Beurre, Ghee</td>\n",
       "      <td>animale</td>\n",
       "      <td>NaN</td>\n",
       "      <td>NaN</td>\n",
       "      <td>23.0</td>\n",
       "      <td>1.17</td>\n",
       "      <td>2.61</td>\n",
       "      <td>0.03</td>\n",
       "      <td>36.0</td>\n",
       "      <td>NaN</td>\n",
       "      <td>0.0</td>\n",
       "      <td>36.0</td>\n",
       "      <td>NaN</td>\n",
       "      <td>36.0</td>\n",
       "      <td>NaN</td>\n",
       "      <td>NaN</td>\n",
       "      <td>NaN</td>\n",
       "    </tr>\n",
       "    <tr>\n",
       "      <th>6</th>\n",
       "      <td>Afghanistan</td>\n",
       "      <td>Bière</td>\n",
       "      <td>vegetale</td>\n",
       "      <td>NaN</td>\n",
       "      <td>NaN</td>\n",
       "      <td>0.0</td>\n",
       "      <td>0.09</td>\n",
       "      <td>NaN</td>\n",
       "      <td>0.00</td>\n",
       "      <td>3.0</td>\n",
       "      <td>NaN</td>\n",
       "      <td>3.0</td>\n",
       "      <td>3.0</td>\n",
       "      <td>NaN</td>\n",
       "      <td>NaN</td>\n",
       "      <td>NaN</td>\n",
       "      <td>NaN</td>\n",
       "      <td>NaN</td>\n",
       "    </tr>\n",
       "    <tr>\n",
       "      <th>7</th>\n",
       "      <td>Afghanistan</td>\n",
       "      <td>Blé</td>\n",
       "      <td>vegetale</td>\n",
       "      <td>NaN</td>\n",
       "      <td>NaN</td>\n",
       "      <td>1369.0</td>\n",
       "      <td>160.23</td>\n",
       "      <td>4.69</td>\n",
       "      <td>36.91</td>\n",
       "      <td>5992.0</td>\n",
       "      <td>NaN</td>\n",
       "      <td>1173.0</td>\n",
       "      <td>4895.0</td>\n",
       "      <td>775.0</td>\n",
       "      <td>5169.0</td>\n",
       "      <td>322.0</td>\n",
       "      <td>NaN</td>\n",
       "      <td>-350.0</td>\n",
       "    </tr>\n",
       "    <tr>\n",
       "      <th>8</th>\n",
       "      <td>Afghanistan</td>\n",
       "      <td>Boissons Alcooliques</td>\n",
       "      <td>vegetale</td>\n",
       "      <td>NaN</td>\n",
       "      <td>NaN</td>\n",
       "      <td>0.0</td>\n",
       "      <td>0.00</td>\n",
       "      <td>NaN</td>\n",
       "      <td>NaN</td>\n",
       "      <td>0.0</td>\n",
       "      <td>NaN</td>\n",
       "      <td>0.0</td>\n",
       "      <td>0.0</td>\n",
       "      <td>NaN</td>\n",
       "      <td>NaN</td>\n",
       "      <td>NaN</td>\n",
       "      <td>NaN</td>\n",
       "      <td>NaN</td>\n",
       "    </tr>\n",
       "    <tr>\n",
       "      <th>9</th>\n",
       "      <td>Afghanistan</td>\n",
       "      <td>Café</td>\n",
       "      <td>vegetale</td>\n",
       "      <td>NaN</td>\n",
       "      <td>NaN</td>\n",
       "      <td>0.0</td>\n",
       "      <td>0.00</td>\n",
       "      <td>NaN</td>\n",
       "      <td>0.00</td>\n",
       "      <td>0.0</td>\n",
       "      <td>NaN</td>\n",
       "      <td>0.0</td>\n",
       "      <td>0.0</td>\n",
       "      <td>NaN</td>\n",
       "      <td>NaN</td>\n",
       "      <td>NaN</td>\n",
       "      <td>NaN</td>\n",
       "      <td>NaN</td>\n",
       "    </tr>\n",
       "    <tr>\n",
       "      <th>10</th>\n",
       "      <td>Afghanistan</td>\n",
       "      <td>Coco (Incl Coprah)</td>\n",
       "      <td>vegetale</td>\n",
       "      <td>NaN</td>\n",
       "      <td>NaN</td>\n",
       "      <td>0.0</td>\n",
       "      <td>0.00</td>\n",
       "      <td>0.00</td>\n",
       "      <td>0.00</td>\n",
       "      <td>0.0</td>\n",
       "      <td>NaN</td>\n",
       "      <td>0.0</td>\n",
       "      <td>0.0</td>\n",
       "      <td>NaN</td>\n",
       "      <td>NaN</td>\n",
       "      <td>NaN</td>\n",
       "      <td>NaN</td>\n",
       "      <td>NaN</td>\n",
       "    </tr>\n",
       "    <tr>\n",
       "      <th>11</th>\n",
       "      <td>Afghanistan</td>\n",
       "      <td>Crème</td>\n",
       "      <td>animale</td>\n",
       "      <td>NaN</td>\n",
       "      <td>NaN</td>\n",
       "      <td>3.0</td>\n",
       "      <td>0.60</td>\n",
       "      <td>0.32</td>\n",
       "      <td>0.04</td>\n",
       "      <td>18.0</td>\n",
       "      <td>NaN</td>\n",
       "      <td>18.0</td>\n",
       "      <td>18.0</td>\n",
       "      <td>NaN</td>\n",
       "      <td>NaN</td>\n",
       "      <td>NaN</td>\n",
       "      <td>NaN</td>\n",
       "      <td>NaN</td>\n",
       "    </tr>\n",
       "    <tr>\n",
       "      <th>12</th>\n",
       "      <td>Afghanistan</td>\n",
       "      <td>Céréales, Autres</td>\n",
       "      <td>vegetale</td>\n",
       "      <td>NaN</td>\n",
       "      <td>NaN</td>\n",
       "      <td>0.0</td>\n",
       "      <td>0.00</td>\n",
       "      <td>0.00</td>\n",
       "      <td>0.00</td>\n",
       "      <td>0.0</td>\n",
       "      <td>NaN</td>\n",
       "      <td>0.0</td>\n",
       "      <td>0.0</td>\n",
       "      <td>NaN</td>\n",
       "      <td>NaN</td>\n",
       "      <td>NaN</td>\n",
       "      <td>NaN</td>\n",
       "      <td>NaN</td>\n",
       "    </tr>\n",
       "    <tr>\n",
       "      <th>13</th>\n",
       "      <td>Afghanistan</td>\n",
       "      <td>Dattes</td>\n",
       "      <td>vegetale</td>\n",
       "      <td>NaN</td>\n",
       "      <td>NaN</td>\n",
       "      <td>0.0</td>\n",
       "      <td>0.02</td>\n",
       "      <td>0.00</td>\n",
       "      <td>0.00</td>\n",
       "      <td>1.0</td>\n",
       "      <td>NaN</td>\n",
       "      <td>1.0</td>\n",
       "      <td>1.0</td>\n",
       "      <td>NaN</td>\n",
       "      <td>NaN</td>\n",
       "      <td>NaN</td>\n",
       "      <td>NaN</td>\n",
       "      <td>NaN</td>\n",
       "    </tr>\n",
       "    <tr>\n",
       "      <th>14</th>\n",
       "      <td>Afghanistan</td>\n",
       "      <td>Edulcorants Autres</td>\n",
       "      <td>vegetale</td>\n",
       "      <td>NaN</td>\n",
       "      <td>NaN</td>\n",
       "      <td>2.0</td>\n",
       "      <td>0.53</td>\n",
       "      <td>NaN</td>\n",
       "      <td>NaN</td>\n",
       "      <td>16.0</td>\n",
       "      <td>NaN</td>\n",
       "      <td>16.0</td>\n",
       "      <td>16.0</td>\n",
       "      <td>NaN</td>\n",
       "      <td>NaN</td>\n",
       "      <td>NaN</td>\n",
       "      <td>NaN</td>\n",
       "      <td>NaN</td>\n",
       "    </tr>\n",
       "  </tbody>\n",
       "</table>\n",
       "</div>"
      ],
      "text/plain": [
       "           pays                produit origine_produit  aliments_animaux  \\\n",
       "0   Afghanistan       Abats Comestible         animale               NaN   \n",
       "1   Afghanistan        Agrumes, Autres        vegetale               NaN   \n",
       "2   Afghanistan  Aliments pour enfants        vegetale               NaN   \n",
       "3   Afghanistan                 Ananas        vegetale               NaN   \n",
       "4   Afghanistan                Bananes        vegetale               NaN   \n",
       "5   Afghanistan           Beurre, Ghee         animale               NaN   \n",
       "6   Afghanistan                  Bière        vegetale               NaN   \n",
       "7   Afghanistan                    Blé        vegetale               NaN   \n",
       "8   Afghanistan   Boissons Alcooliques        vegetale               NaN   \n",
       "9   Afghanistan                   Café        vegetale               NaN   \n",
       "10  Afghanistan     Coco (Incl Coprah)        vegetale               NaN   \n",
       "11  Afghanistan                  Crème         animale               NaN   \n",
       "12  Afghanistan       Céréales, Autres        vegetale               NaN   \n",
       "13  Afghanistan                 Dattes        vegetale               NaN   \n",
       "14  Afghanistan     Edulcorants Autres        vegetale               NaN   \n",
       "\n",
       "    autres_utilisations  dispo_alim_kcal_pers_j  dispo_alim_kg_pers_an  \\\n",
       "0                   NaN                     5.0                   1.72   \n",
       "1                   NaN                     1.0                   1.29   \n",
       "2                   NaN                     1.0                   0.06   \n",
       "3                   NaN                     0.0                   0.00   \n",
       "4                   NaN                     4.0                   2.70   \n",
       "5                   NaN                    23.0                   1.17   \n",
       "6                   NaN                     0.0                   0.09   \n",
       "7                   NaN                  1369.0                 160.23   \n",
       "8                   NaN                     0.0                   0.00   \n",
       "9                   NaN                     0.0                   0.00   \n",
       "10                  NaN                     0.0                   0.00   \n",
       "11                  NaN                     3.0                   0.60   \n",
       "12                  NaN                     0.0                   0.00   \n",
       "13                  NaN                     0.0                   0.02   \n",
       "14                  NaN                     2.0                   0.53   \n",
       "\n",
       "    dispo_mat_grasse_g_pers_j  dispo_proteine_g_pers_j  dispo_interieure  \\\n",
       "0                        0.20                     0.77              53.0   \n",
       "1                        0.01                     0.02              41.0   \n",
       "2                        0.01                     0.03               2.0   \n",
       "3                         NaN                      NaN               0.0   \n",
       "4                        0.02                     0.05              82.0   \n",
       "5                        2.61                     0.03              36.0   \n",
       "6                         NaN                     0.00               3.0   \n",
       "7                        4.69                    36.91            5992.0   \n",
       "8                         NaN                      NaN               0.0   \n",
       "9                         NaN                     0.00               0.0   \n",
       "10                       0.00                     0.00               0.0   \n",
       "11                       0.32                     0.04              18.0   \n",
       "12                       0.00                     0.00               0.0   \n",
       "13                       0.00                     0.00               1.0   \n",
       "14                        NaN                      NaN              16.0   \n",
       "\n",
       "    qt_export  qt_import  nb_nourriture  perte  production  semences  \\\n",
       "0         NaN        NaN           53.0    NaN        53.0       NaN   \n",
       "1         2.0       40.0           39.0    2.0         3.0       NaN   \n",
       "2         NaN        2.0            2.0    NaN         NaN       NaN   \n",
       "3         NaN        0.0            0.0    NaN         NaN       NaN   \n",
       "4         NaN       82.0           82.0    NaN         NaN       NaN   \n",
       "5         NaN        0.0           36.0    NaN        36.0       NaN   \n",
       "6         NaN        3.0            3.0    NaN         NaN       NaN   \n",
       "7         NaN     1173.0         4895.0  775.0      5169.0     322.0   \n",
       "8         NaN        0.0            0.0    NaN         NaN       NaN   \n",
       "9         NaN        0.0            0.0    NaN         NaN       NaN   \n",
       "10        NaN        0.0            0.0    NaN         NaN       NaN   \n",
       "11        NaN       18.0           18.0    NaN         NaN       NaN   \n",
       "12        NaN        0.0            0.0    NaN         NaN       NaN   \n",
       "13        NaN        1.0            1.0    NaN         NaN       NaN   \n",
       "14        NaN       16.0           16.0    NaN         NaN       NaN   \n",
       "\n",
       "    traitement  variation_stock  \n",
       "0          NaN              NaN  \n",
       "1          NaN              NaN  \n",
       "2          NaN              NaN  \n",
       "3          NaN              NaN  \n",
       "4          NaN              NaN  \n",
       "5          NaN              NaN  \n",
       "6          NaN              NaN  \n",
       "7          NaN           -350.0  \n",
       "8          NaN              NaN  \n",
       "9          NaN              NaN  \n",
       "10         NaN              NaN  \n",
       "11         NaN              NaN  \n",
       "12         NaN              NaN  \n",
       "13         NaN              NaN  \n",
       "14         NaN              NaN  "
      ]
     },
     "execution_count": 25,
     "metadata": {},
     "output_type": "execute_result"
    }
   ],
   "source": [
    "dispo_alimentaire.head(15)"
   ]
  },
  {
   "cell_type": "code",
   "execution_count": 26,
   "id": "6452de51",
   "metadata": {},
   "outputs": [],
   "source": [
    "dispo_alimentaire['aliments_animaux'].fillna(0, inplace=True)\n",
    "dispo_alimentaire['autres_utilisations'].fillna(0, inplace=True)\n",
    "dispo_alimentaire['dispo_alim_kcal_pers_j'].fillna(0, inplace=True)\n",
    "dispo_alimentaire['dispo_alim_kg_pers_an'].fillna(0, inplace=True)\n",
    "dispo_alimentaire['dispo_mat_grasse_g_pers_j'].fillna(0, inplace=True)\n",
    "dispo_alimentaire['dispo_proteine_g_pers_j'].fillna(0, inplace=True)\n",
    "dispo_alimentaire['dispo_interieure'].fillna(0, inplace=True)\n",
    "dispo_alimentaire['qt_export'].fillna(0, inplace=True)\n",
    "dispo_alimentaire['qt_import'].fillna(0, inplace=True)\n",
    "dispo_alimentaire['nb_nourriture'].fillna(0, inplace=True)\n",
    "dispo_alimentaire['perte'].fillna(0, inplace=True)\n",
    "dispo_alimentaire['production'].fillna(0, inplace=True)\n",
    "dispo_alimentaire['semences'].fillna(0, inplace=True)\n",
    "dispo_alimentaire['traitement'].fillna(0, inplace=True)\n",
    "dispo_alimentaire['variation_stock'].fillna(0, inplace=True)"
   ]
  },
  {
   "cell_type": "markdown",
   "id": "7a268a74",
   "metadata": {},
   "source": [
    "j'ai donc remplacer tout les Nan par zero pour avoir aucun donnée manquante et pour poursuivre mon analyze."
   ]
  },
  {
   "cell_type": "code",
   "execution_count": 27,
   "id": "cf883223",
   "metadata": {},
   "outputs": [
    {
     "data": {
      "text/plain": [
       "pays                         0.0\n",
       "produit                      0.0\n",
       "origine_produit              0.0\n",
       "aliments_animaux             0.0\n",
       "autres_utilisations          0.0\n",
       "dispo_alim_kcal_pers_j       0.0\n",
       "dispo_alim_kg_pers_an        0.0\n",
       "dispo_mat_grasse_g_pers_j    0.0\n",
       "dispo_proteine_g_pers_j      0.0\n",
       "dispo_interieure             0.0\n",
       "qt_export                    0.0\n",
       "qt_import                    0.0\n",
       "nb_nourriture                0.0\n",
       "perte                        0.0\n",
       "production                   0.0\n",
       "semences                     0.0\n",
       "traitement                   0.0\n",
       "variation_stock              0.0\n",
       "dtype: float64"
      ]
     },
     "execution_count": 27,
     "metadata": {},
     "output_type": "execute_result"
    }
   ],
   "source": [
    "dispo_alimentaire.isna().mean()"
   ]
  },
  {
   "cell_type": "markdown",
   "id": "245fff03",
   "metadata": {},
   "source": [
    "Maintenant je vais pouvoir faire mais calcule sans complication"
   ]
  },
  {
   "cell_type": "code",
   "execution_count": 28,
   "id": "e2226121",
   "metadata": {},
   "outputs": [
    {
     "data": {
      "text/html": [
       "<div>\n",
       "<style scoped>\n",
       "    .dataframe tbody tr th:only-of-type {\n",
       "        vertical-align: middle;\n",
       "    }\n",
       "\n",
       "    .dataframe tbody tr th {\n",
       "        vertical-align: top;\n",
       "    }\n",
       "\n",
       "    .dataframe thead th {\n",
       "        text-align: right;\n",
       "    }\n",
       "</style>\n",
       "<table border=\"1\" class=\"dataframe\">\n",
       "  <thead>\n",
       "    <tr style=\"text-align: right;\">\n",
       "      <th></th>\n",
       "      <th>pays</th>\n",
       "      <th>produit</th>\n",
       "      <th>origine_produit</th>\n",
       "      <th>aliments_animaux</th>\n",
       "      <th>autres_utilisations</th>\n",
       "      <th>dispo_alim_kcal_pers_j</th>\n",
       "      <th>dispo_alim_kg_pers_an</th>\n",
       "      <th>dispo_mat_grasse_g_pers_j</th>\n",
       "      <th>dispo_proteine_g_pers_j</th>\n",
       "      <th>dispo_interieure</th>\n",
       "      <th>qt_export</th>\n",
       "      <th>qt_import</th>\n",
       "      <th>nb_nourriture</th>\n",
       "      <th>perte</th>\n",
       "      <th>production</th>\n",
       "      <th>semences</th>\n",
       "      <th>traitement</th>\n",
       "      <th>variation_stock</th>\n",
       "    </tr>\n",
       "  </thead>\n",
       "  <tbody>\n",
       "    <tr>\n",
       "      <th>0</th>\n",
       "      <td>Afghanistan</td>\n",
       "      <td>Abats Comestible</td>\n",
       "      <td>animale</td>\n",
       "      <td>0.0</td>\n",
       "      <td>0.0</td>\n",
       "      <td>5.0</td>\n",
       "      <td>1.72</td>\n",
       "      <td>0.20</td>\n",
       "      <td>0.77</td>\n",
       "      <td>53.0</td>\n",
       "      <td>0.0</td>\n",
       "      <td>0.0</td>\n",
       "      <td>53.0</td>\n",
       "      <td>0.0</td>\n",
       "      <td>53.0</td>\n",
       "      <td>0.0</td>\n",
       "      <td>0.0</td>\n",
       "      <td>0.0</td>\n",
       "    </tr>\n",
       "    <tr>\n",
       "      <th>1</th>\n",
       "      <td>Afghanistan</td>\n",
       "      <td>Agrumes, Autres</td>\n",
       "      <td>vegetale</td>\n",
       "      <td>0.0</td>\n",
       "      <td>0.0</td>\n",
       "      <td>1.0</td>\n",
       "      <td>1.29</td>\n",
       "      <td>0.01</td>\n",
       "      <td>0.02</td>\n",
       "      <td>41.0</td>\n",
       "      <td>2.0</td>\n",
       "      <td>40.0</td>\n",
       "      <td>39.0</td>\n",
       "      <td>2.0</td>\n",
       "      <td>3.0</td>\n",
       "      <td>0.0</td>\n",
       "      <td>0.0</td>\n",
       "      <td>0.0</td>\n",
       "    </tr>\n",
       "    <tr>\n",
       "      <th>2</th>\n",
       "      <td>Afghanistan</td>\n",
       "      <td>Aliments pour enfants</td>\n",
       "      <td>vegetale</td>\n",
       "      <td>0.0</td>\n",
       "      <td>0.0</td>\n",
       "      <td>1.0</td>\n",
       "      <td>0.06</td>\n",
       "      <td>0.01</td>\n",
       "      <td>0.03</td>\n",
       "      <td>2.0</td>\n",
       "      <td>0.0</td>\n",
       "      <td>2.0</td>\n",
       "      <td>2.0</td>\n",
       "      <td>0.0</td>\n",
       "      <td>0.0</td>\n",
       "      <td>0.0</td>\n",
       "      <td>0.0</td>\n",
       "      <td>0.0</td>\n",
       "    </tr>\n",
       "    <tr>\n",
       "      <th>3</th>\n",
       "      <td>Afghanistan</td>\n",
       "      <td>Ananas</td>\n",
       "      <td>vegetale</td>\n",
       "      <td>0.0</td>\n",
       "      <td>0.0</td>\n",
       "      <td>0.0</td>\n",
       "      <td>0.00</td>\n",
       "      <td>0.00</td>\n",
       "      <td>0.00</td>\n",
       "      <td>0.0</td>\n",
       "      <td>0.0</td>\n",
       "      <td>0.0</td>\n",
       "      <td>0.0</td>\n",
       "      <td>0.0</td>\n",
       "      <td>0.0</td>\n",
       "      <td>0.0</td>\n",
       "      <td>0.0</td>\n",
       "      <td>0.0</td>\n",
       "    </tr>\n",
       "    <tr>\n",
       "      <th>4</th>\n",
       "      <td>Afghanistan</td>\n",
       "      <td>Bananes</td>\n",
       "      <td>vegetale</td>\n",
       "      <td>0.0</td>\n",
       "      <td>0.0</td>\n",
       "      <td>4.0</td>\n",
       "      <td>2.70</td>\n",
       "      <td>0.02</td>\n",
       "      <td>0.05</td>\n",
       "      <td>82.0</td>\n",
       "      <td>0.0</td>\n",
       "      <td>82.0</td>\n",
       "      <td>82.0</td>\n",
       "      <td>0.0</td>\n",
       "      <td>0.0</td>\n",
       "      <td>0.0</td>\n",
       "      <td>0.0</td>\n",
       "      <td>0.0</td>\n",
       "    </tr>\n",
       "  </tbody>\n",
       "</table>\n",
       "</div>"
      ],
      "text/plain": [
       "          pays                produit origine_produit  aliments_animaux  \\\n",
       "0  Afghanistan       Abats Comestible         animale               0.0   \n",
       "1  Afghanistan        Agrumes, Autres        vegetale               0.0   \n",
       "2  Afghanistan  Aliments pour enfants        vegetale               0.0   \n",
       "3  Afghanistan                 Ananas        vegetale               0.0   \n",
       "4  Afghanistan                Bananes        vegetale               0.0   \n",
       "\n",
       "   autres_utilisations  dispo_alim_kcal_pers_j  dispo_alim_kg_pers_an  \\\n",
       "0                  0.0                     5.0                   1.72   \n",
       "1                  0.0                     1.0                   1.29   \n",
       "2                  0.0                     1.0                   0.06   \n",
       "3                  0.0                     0.0                   0.00   \n",
       "4                  0.0                     4.0                   2.70   \n",
       "\n",
       "   dispo_mat_grasse_g_pers_j  dispo_proteine_g_pers_j  dispo_interieure  \\\n",
       "0                       0.20                     0.77              53.0   \n",
       "1                       0.01                     0.02              41.0   \n",
       "2                       0.01                     0.03               2.0   \n",
       "3                       0.00                     0.00               0.0   \n",
       "4                       0.02                     0.05              82.0   \n",
       "\n",
       "   qt_export  qt_import  nb_nourriture  perte  production  semences  \\\n",
       "0        0.0        0.0           53.0    0.0        53.0       0.0   \n",
       "1        2.0       40.0           39.0    2.0         3.0       0.0   \n",
       "2        0.0        2.0            2.0    0.0         0.0       0.0   \n",
       "3        0.0        0.0            0.0    0.0         0.0       0.0   \n",
       "4        0.0       82.0           82.0    0.0         0.0       0.0   \n",
       "\n",
       "   traitement  variation_stock  \n",
       "0         0.0              0.0  \n",
       "1         0.0              0.0  \n",
       "2         0.0              0.0  \n",
       "3         0.0              0.0  \n",
       "4         0.0              0.0  "
      ]
     },
     "execution_count": 28,
     "metadata": {},
     "output_type": "execute_result"
    }
   ],
   "source": [
    "dispo_alimentaire.head(5)"
   ]
  },
  {
   "cell_type": "markdown",
   "id": "c4017986",
   "metadata": {},
   "source": [
    "#### La disponibilité alimentaire est exprimé en millier de tonne, à convertit en kg"
   ]
  },
  {
   "cell_type": "code",
   "execution_count": 29,
   "id": "88451f5e",
   "metadata": {},
   "outputs": [
    {
     "data": {
      "text/plain": [
       "0        1720000.0\n",
       "1        1290000.0\n",
       "2          60000.0\n",
       "3              0.0\n",
       "4        2700000.0\n",
       "           ...    \n",
       "15600    4700000.0\n",
       "15601    3340000.0\n",
       "15602      60000.0\n",
       "15603      70000.0\n",
       "15604     480000.0\n",
       "Name: dispo_alim_kg_pers_an, Length: 15605, dtype: float64"
      ]
     },
     "execution_count": 29,
     "metadata": {},
     "output_type": "execute_result"
    }
   ],
   "source": [
    "dispo_alimentaire['dispo_alim_kg_pers_an'] = dispo_alimentaire['dispo_alim_kg_pers_an'] * 1000000\n",
    "dispo_alimentaire['dispo_alim_kg_pers_an']"
   ]
  },
  {
   "cell_type": "code",
   "execution_count": 30,
   "id": "0c3f02b6",
   "metadata": {},
   "outputs": [
    {
     "data": {
      "text/plain": [
       "0        53000000.0\n",
       "1        39000000.0\n",
       "2         2000000.0\n",
       "3               0.0\n",
       "4        82000000.0\n",
       "            ...    \n",
       "15600     3000000.0\n",
       "15601     2000000.0\n",
       "15602           0.0\n",
       "15603           0.0\n",
       "15604           0.0\n",
       "Name: nb_nourriture, Length: 15605, dtype: float64"
      ]
     },
     "execution_count": 30,
     "metadata": {},
     "output_type": "execute_result"
    }
   ],
   "source": [
    "dispo_alimentaire['nb_nourriture'] = dispo_alimentaire['nb_nourriture'] * 1000000\n",
    "dispo_alimentaire['nb_nourriture']"
   ]
  },
  {
   "cell_type": "code",
   "execution_count": 31,
   "id": "05ab0e76",
   "metadata": {},
   "outputs": [
    {
     "data": {
      "text/plain": [
       "0        53000000.0\n",
       "1        41000000.0\n",
       "2         2000000.0\n",
       "3               0.0\n",
       "4        82000000.0\n",
       "            ...    \n",
       "15600     3000000.0\n",
       "15601     2000000.0\n",
       "15602           0.0\n",
       "15603           0.0\n",
       "15604           0.0\n",
       "Name: dispo_interieure, Length: 15605, dtype: float64"
      ]
     },
     "execution_count": 31,
     "metadata": {},
     "output_type": "execute_result"
    }
   ],
   "source": [
    "dispo_alimentaire['dispo_interieure'] = dispo_alimentaire['dispo_interieure'] * 1000000\n",
    "dispo_alimentaire['dispo_interieure']"
   ]
  },
  {
   "cell_type": "code",
   "execution_count": 32,
   "id": "4677bab1",
   "metadata": {},
   "outputs": [
    {
     "data": {
      "text/plain": [
       "count    1.560500e+04\n",
       "mean     8.357866e+07\n",
       "std      1.779289e+09\n",
       "min      0.000000e+00\n",
       "25%      0.000000e+00\n",
       "50%      0.000000e+00\n",
       "75%      0.000000e+00\n",
       "max      1.500000e+11\n",
       "Name: aliments_animaux, dtype: float64"
      ]
     },
     "execution_count": 32,
     "metadata": {},
     "output_type": "execute_result"
    }
   ],
   "source": [
    "dispo_alimentaire['aliments_animaux'] = dispo_alimentaire['aliments_animaux'] * 1000000\n",
    "dispo_alimentaire['aliments_animaux'].describe()"
   ]
  },
  {
   "cell_type": "code",
   "execution_count": 33,
   "id": "45601191",
   "metadata": {},
   "outputs": [
    {
     "data": {
      "text/plain": [
       "count    1.560500e+04\n",
       "mean     2.907389e+07\n",
       "std      5.846722e+08\n",
       "min      0.000000e+00\n",
       "25%      0.000000e+00\n",
       "50%      0.000000e+00\n",
       "75%      0.000000e+00\n",
       "max      5.504700e+10\n",
       "Name: perte, dtype: float64"
      ]
     },
     "execution_count": 33,
     "metadata": {},
     "output_type": "execute_result"
    }
   ],
   "source": [
    "dispo_alimentaire['perte'] = dispo_alimentaire['perte'] * 1000000\n",
    "dispo_alimentaire['perte'].describe()"
   ]
  },
  {
   "cell_type": "code",
   "execution_count": 34,
   "id": "406c23d3",
   "metadata": {},
   "outputs": [
    {
     "data": {
      "text/html": [
       "<div>\n",
       "<style scoped>\n",
       "    .dataframe tbody tr th:only-of-type {\n",
       "        vertical-align: middle;\n",
       "    }\n",
       "\n",
       "    .dataframe tbody tr th {\n",
       "        vertical-align: top;\n",
       "    }\n",
       "\n",
       "    .dataframe thead th {\n",
       "        text-align: right;\n",
       "    }\n",
       "</style>\n",
       "<table border=\"1\" class=\"dataframe\">\n",
       "  <thead>\n",
       "    <tr style=\"text-align: right;\">\n",
       "      <th></th>\n",
       "      <th>pays</th>\n",
       "      <th>produit</th>\n",
       "      <th>origine_produit</th>\n",
       "      <th>aliments_animaux</th>\n",
       "      <th>autres_utilisations</th>\n",
       "      <th>dispo_alim_kcal_pers_j</th>\n",
       "      <th>dispo_alim_kg_pers_an</th>\n",
       "      <th>dispo_mat_grasse_g_pers_j</th>\n",
       "      <th>dispo_proteine_g_pers_j</th>\n",
       "      <th>dispo_interieure</th>\n",
       "      <th>qt_export</th>\n",
       "      <th>qt_import</th>\n",
       "      <th>nb_nourriture</th>\n",
       "      <th>perte</th>\n",
       "      <th>production</th>\n",
       "      <th>semences</th>\n",
       "      <th>traitement</th>\n",
       "      <th>variation_stock</th>\n",
       "    </tr>\n",
       "  </thead>\n",
       "  <tbody>\n",
       "    <tr>\n",
       "      <th>0</th>\n",
       "      <td>Afghanistan</td>\n",
       "      <td>Abats Comestible</td>\n",
       "      <td>animale</td>\n",
       "      <td>0.0</td>\n",
       "      <td>0.0</td>\n",
       "      <td>5.0</td>\n",
       "      <td>1720000.0</td>\n",
       "      <td>0.20</td>\n",
       "      <td>0.77</td>\n",
       "      <td>53000000.0</td>\n",
       "      <td>0.0</td>\n",
       "      <td>0.0</td>\n",
       "      <td>53000000.0</td>\n",
       "      <td>0.0</td>\n",
       "      <td>53.0</td>\n",
       "      <td>0.0</td>\n",
       "      <td>0.0</td>\n",
       "      <td>0.0</td>\n",
       "    </tr>\n",
       "    <tr>\n",
       "      <th>1</th>\n",
       "      <td>Afghanistan</td>\n",
       "      <td>Agrumes, Autres</td>\n",
       "      <td>vegetale</td>\n",
       "      <td>0.0</td>\n",
       "      <td>0.0</td>\n",
       "      <td>1.0</td>\n",
       "      <td>1290000.0</td>\n",
       "      <td>0.01</td>\n",
       "      <td>0.02</td>\n",
       "      <td>41000000.0</td>\n",
       "      <td>2.0</td>\n",
       "      <td>40.0</td>\n",
       "      <td>39000000.0</td>\n",
       "      <td>2000000.0</td>\n",
       "      <td>3.0</td>\n",
       "      <td>0.0</td>\n",
       "      <td>0.0</td>\n",
       "      <td>0.0</td>\n",
       "    </tr>\n",
       "    <tr>\n",
       "      <th>2</th>\n",
       "      <td>Afghanistan</td>\n",
       "      <td>Aliments pour enfants</td>\n",
       "      <td>vegetale</td>\n",
       "      <td>0.0</td>\n",
       "      <td>0.0</td>\n",
       "      <td>1.0</td>\n",
       "      <td>60000.0</td>\n",
       "      <td>0.01</td>\n",
       "      <td>0.03</td>\n",
       "      <td>2000000.0</td>\n",
       "      <td>0.0</td>\n",
       "      <td>2.0</td>\n",
       "      <td>2000000.0</td>\n",
       "      <td>0.0</td>\n",
       "      <td>0.0</td>\n",
       "      <td>0.0</td>\n",
       "      <td>0.0</td>\n",
       "      <td>0.0</td>\n",
       "    </tr>\n",
       "    <tr>\n",
       "      <th>3</th>\n",
       "      <td>Afghanistan</td>\n",
       "      <td>Ananas</td>\n",
       "      <td>vegetale</td>\n",
       "      <td>0.0</td>\n",
       "      <td>0.0</td>\n",
       "      <td>0.0</td>\n",
       "      <td>0.0</td>\n",
       "      <td>0.00</td>\n",
       "      <td>0.00</td>\n",
       "      <td>0.0</td>\n",
       "      <td>0.0</td>\n",
       "      <td>0.0</td>\n",
       "      <td>0.0</td>\n",
       "      <td>0.0</td>\n",
       "      <td>0.0</td>\n",
       "      <td>0.0</td>\n",
       "      <td>0.0</td>\n",
       "      <td>0.0</td>\n",
       "    </tr>\n",
       "    <tr>\n",
       "      <th>4</th>\n",
       "      <td>Afghanistan</td>\n",
       "      <td>Bananes</td>\n",
       "      <td>vegetale</td>\n",
       "      <td>0.0</td>\n",
       "      <td>0.0</td>\n",
       "      <td>4.0</td>\n",
       "      <td>2700000.0</td>\n",
       "      <td>0.02</td>\n",
       "      <td>0.05</td>\n",
       "      <td>82000000.0</td>\n",
       "      <td>0.0</td>\n",
       "      <td>82.0</td>\n",
       "      <td>82000000.0</td>\n",
       "      <td>0.0</td>\n",
       "      <td>0.0</td>\n",
       "      <td>0.0</td>\n",
       "      <td>0.0</td>\n",
       "      <td>0.0</td>\n",
       "    </tr>\n",
       "  </tbody>\n",
       "</table>\n",
       "</div>"
      ],
      "text/plain": [
       "          pays                produit origine_produit  aliments_animaux  \\\n",
       "0  Afghanistan       Abats Comestible         animale               0.0   \n",
       "1  Afghanistan        Agrumes, Autres        vegetale               0.0   \n",
       "2  Afghanistan  Aliments pour enfants        vegetale               0.0   \n",
       "3  Afghanistan                 Ananas        vegetale               0.0   \n",
       "4  Afghanistan                Bananes        vegetale               0.0   \n",
       "\n",
       "   autres_utilisations  dispo_alim_kcal_pers_j  dispo_alim_kg_pers_an  \\\n",
       "0                  0.0                     5.0              1720000.0   \n",
       "1                  0.0                     1.0              1290000.0   \n",
       "2                  0.0                     1.0                60000.0   \n",
       "3                  0.0                     0.0                    0.0   \n",
       "4                  0.0                     4.0              2700000.0   \n",
       "\n",
       "   dispo_mat_grasse_g_pers_j  dispo_proteine_g_pers_j  dispo_interieure  \\\n",
       "0                       0.20                     0.77        53000000.0   \n",
       "1                       0.01                     0.02        41000000.0   \n",
       "2                       0.01                     0.03         2000000.0   \n",
       "3                       0.00                     0.00               0.0   \n",
       "4                       0.02                     0.05        82000000.0   \n",
       "\n",
       "   qt_export  qt_import  nb_nourriture      perte  production  semences  \\\n",
       "0        0.0        0.0     53000000.0        0.0        53.0       0.0   \n",
       "1        2.0       40.0     39000000.0  2000000.0         3.0       0.0   \n",
       "2        0.0        2.0      2000000.0        0.0         0.0       0.0   \n",
       "3        0.0        0.0            0.0        0.0         0.0       0.0   \n",
       "4        0.0       82.0     82000000.0        0.0         0.0       0.0   \n",
       "\n",
       "   traitement  variation_stock  \n",
       "0         0.0              0.0  \n",
       "1         0.0              0.0  \n",
       "2         0.0              0.0  \n",
       "3         0.0              0.0  \n",
       "4         0.0              0.0  "
      ]
     },
     "execution_count": 34,
     "metadata": {},
     "output_type": "execute_result"
    }
   ],
   "source": [
    "dispo_alimentaire.head(5)"
   ]
  },
  {
   "cell_type": "code",
   "execution_count": 35,
   "id": "c19b888e",
   "metadata": {},
   "outputs": [
    {
     "data": {
      "text/html": [
       "<div>\n",
       "<style scoped>\n",
       "    .dataframe tbody tr th:only-of-type {\n",
       "        vertical-align: middle;\n",
       "    }\n",
       "\n",
       "    .dataframe tbody tr th {\n",
       "        vertical-align: top;\n",
       "    }\n",
       "\n",
       "    .dataframe thead th {\n",
       "        text-align: right;\n",
       "    }\n",
       "</style>\n",
       "<table border=\"1\" class=\"dataframe\">\n",
       "  <thead>\n",
       "    <tr style=\"text-align: right;\">\n",
       "      <th></th>\n",
       "      <th>aliments_animaux</th>\n",
       "      <th>autres_utilisations</th>\n",
       "      <th>dispo_alim_kcal_pers_j</th>\n",
       "      <th>dispo_alim_kg_pers_an</th>\n",
       "      <th>dispo_mat_grasse_g_pers_j</th>\n",
       "      <th>dispo_proteine_g_pers_j</th>\n",
       "      <th>dispo_interieure</th>\n",
       "      <th>qt_export</th>\n",
       "      <th>qt_import</th>\n",
       "      <th>nb_nourriture</th>\n",
       "      <th>perte</th>\n",
       "      <th>production</th>\n",
       "      <th>semences</th>\n",
       "      <th>traitement</th>\n",
       "      <th>variation_stock</th>\n",
       "    </tr>\n",
       "  </thead>\n",
       "  <tbody>\n",
       "    <tr>\n",
       "      <th>count</th>\n",
       "      <td>1.560500e+04</td>\n",
       "      <td>15605.000000</td>\n",
       "      <td>15605.000000</td>\n",
       "      <td>1.560500e+04</td>\n",
       "      <td>15605.000000</td>\n",
       "      <td>15605.000000</td>\n",
       "      <td>1.560500e+04</td>\n",
       "      <td>15605.000000</td>\n",
       "      <td>15605.000000</td>\n",
       "      <td>1.560500e+04</td>\n",
       "      <td>1.560500e+04</td>\n",
       "      <td>15605.000000</td>\n",
       "      <td>15605.000000</td>\n",
       "      <td>15605.000000</td>\n",
       "      <td>15605.000000</td>\n",
       "    </tr>\n",
       "    <tr>\n",
       "      <th>mean</th>\n",
       "      <td>8.357866e+07</td>\n",
       "      <td>55.432426</td>\n",
       "      <td>31.748927</td>\n",
       "      <td>7.830948e+06</td>\n",
       "      <td>0.969754</td>\n",
       "      <td>0.906513</td>\n",
       "      <td>6.311435e+08</td>\n",
       "      <td>86.649023</td>\n",
       "      <td>83.053701</td>\n",
       "      <td>3.124805e+08</td>\n",
       "      <td>2.907389e+07</td>\n",
       "      <td>641.440564</td>\n",
       "      <td>9.912272</td>\n",
       "      <td>141.280807</td>\n",
       "      <td>-6.690292</td>\n",
       "    </tr>\n",
       "    <tr>\n",
       "      <th>std</th>\n",
       "      <td>1.779289e+09</td>\n",
       "      <td>3013.629812</td>\n",
       "      <td>102.961194</td>\n",
       "      <td>2.347891e+07</td>\n",
       "      <td>3.246695</td>\n",
       "      <td>3.143516</td>\n",
       "      <td>9.002564e+09</td>\n",
       "      <td>933.435208</td>\n",
       "      <td>700.099451</td>\n",
       "      <td>4.242855e+09</td>\n",
       "      <td>5.846722e+08</td>\n",
       "      <td>9270.864198</td>\n",
       "      <td>194.897843</td>\n",
       "      <td>3992.567621</td>\n",
       "      <td>362.380787</td>\n",
       "    </tr>\n",
       "    <tr>\n",
       "      <th>min</th>\n",
       "      <td>0.000000e+00</td>\n",
       "      <td>0.000000</td>\n",
       "      <td>-21.000000</td>\n",
       "      <td>-1.930000e+06</td>\n",
       "      <td>-0.030000</td>\n",
       "      <td>-0.370000</td>\n",
       "      <td>-3.430000e+09</td>\n",
       "      <td>-41.000000</td>\n",
       "      <td>-201.000000</td>\n",
       "      <td>-2.460000e+08</td>\n",
       "      <td>0.000000e+00</td>\n",
       "      <td>0.000000</td>\n",
       "      <td>0.000000</td>\n",
       "      <td>-19.000000</td>\n",
       "      <td>-39863.000000</td>\n",
       "    </tr>\n",
       "    <tr>\n",
       "      <th>25%</th>\n",
       "      <td>0.000000e+00</td>\n",
       "      <td>0.000000</td>\n",
       "      <td>0.000000</td>\n",
       "      <td>1.000000e+04</td>\n",
       "      <td>0.000000</td>\n",
       "      <td>0.000000</td>\n",
       "      <td>0.000000e+00</td>\n",
       "      <td>0.000000</td>\n",
       "      <td>0.000000</td>\n",
       "      <td>0.000000e+00</td>\n",
       "      <td>0.000000e+00</td>\n",
       "      <td>0.000000</td>\n",
       "      <td>0.000000</td>\n",
       "      <td>0.000000</td>\n",
       "      <td>0.000000</td>\n",
       "    </tr>\n",
       "    <tr>\n",
       "      <th>50%</th>\n",
       "      <td>0.000000e+00</td>\n",
       "      <td>0.000000</td>\n",
       "      <td>3.000000</td>\n",
       "      <td>5.200000e+05</td>\n",
       "      <td>0.020000</td>\n",
       "      <td>0.020000</td>\n",
       "      <td>6.000000e+06</td>\n",
       "      <td>0.000000</td>\n",
       "      <td>1.000000</td>\n",
       "      <td>3.000000e+06</td>\n",
       "      <td>0.000000e+00</td>\n",
       "      <td>0.000000</td>\n",
       "      <td>0.000000</td>\n",
       "      <td>0.000000</td>\n",
       "      <td>0.000000</td>\n",
       "    </tr>\n",
       "    <tr>\n",
       "      <th>75%</th>\n",
       "      <td>0.000000e+00</td>\n",
       "      <td>0.000000</td>\n",
       "      <td>18.000000</td>\n",
       "      <td>4.270000e+06</td>\n",
       "      <td>0.310000</td>\n",
       "      <td>0.350000</td>\n",
       "      <td>7.300000e+07</td>\n",
       "      <td>4.000000</td>\n",
       "      <td>16.000000</td>\n",
       "      <td>4.000000e+07</td>\n",
       "      <td>0.000000e+00</td>\n",
       "      <td>42.000000</td>\n",
       "      <td>0.000000</td>\n",
       "      <td>0.000000</td>\n",
       "      <td>0.000000</td>\n",
       "    </tr>\n",
       "    <tr>\n",
       "      <th>max</th>\n",
       "      <td>1.500000e+11</td>\n",
       "      <td>347309.000000</td>\n",
       "      <td>1711.000000</td>\n",
       "      <td>4.307600e+08</td>\n",
       "      <td>60.760000</td>\n",
       "      <td>54.970000</td>\n",
       "      <td>7.392670e+11</td>\n",
       "      <td>42797.000000</td>\n",
       "      <td>63381.000000</td>\n",
       "      <td>4.268500e+11</td>\n",
       "      <td>5.504700e+10</td>\n",
       "      <td>739267.000000</td>\n",
       "      <td>17060.000000</td>\n",
       "      <td>326711.000000</td>\n",
       "      <td>5284.000000</td>\n",
       "    </tr>\n",
       "  </tbody>\n",
       "</table>\n",
       "</div>"
      ],
      "text/plain": [
       "       aliments_animaux  autres_utilisations  dispo_alim_kcal_pers_j  \\\n",
       "count      1.560500e+04         15605.000000            15605.000000   \n",
       "mean       8.357866e+07            55.432426               31.748927   \n",
       "std        1.779289e+09          3013.629812              102.961194   \n",
       "min        0.000000e+00             0.000000              -21.000000   \n",
       "25%        0.000000e+00             0.000000                0.000000   \n",
       "50%        0.000000e+00             0.000000                3.000000   \n",
       "75%        0.000000e+00             0.000000               18.000000   \n",
       "max        1.500000e+11        347309.000000             1711.000000   \n",
       "\n",
       "       dispo_alim_kg_pers_an  dispo_mat_grasse_g_pers_j  \\\n",
       "count           1.560500e+04               15605.000000   \n",
       "mean            7.830948e+06                   0.969754   \n",
       "std             2.347891e+07                   3.246695   \n",
       "min            -1.930000e+06                  -0.030000   \n",
       "25%             1.000000e+04                   0.000000   \n",
       "50%             5.200000e+05                   0.020000   \n",
       "75%             4.270000e+06                   0.310000   \n",
       "max             4.307600e+08                  60.760000   \n",
       "\n",
       "       dispo_proteine_g_pers_j  dispo_interieure     qt_export     qt_import  \\\n",
       "count             15605.000000      1.560500e+04  15605.000000  15605.000000   \n",
       "mean                  0.906513      6.311435e+08     86.649023     83.053701   \n",
       "std                   3.143516      9.002564e+09    933.435208    700.099451   \n",
       "min                  -0.370000     -3.430000e+09    -41.000000   -201.000000   \n",
       "25%                   0.000000      0.000000e+00      0.000000      0.000000   \n",
       "50%                   0.020000      6.000000e+06      0.000000      1.000000   \n",
       "75%                   0.350000      7.300000e+07      4.000000     16.000000   \n",
       "max                  54.970000      7.392670e+11  42797.000000  63381.000000   \n",
       "\n",
       "       nb_nourriture         perte     production      semences  \\\n",
       "count   1.560500e+04  1.560500e+04   15605.000000  15605.000000   \n",
       "mean    3.124805e+08  2.907389e+07     641.440564      9.912272   \n",
       "std     4.242855e+09  5.846722e+08    9270.864198    194.897843   \n",
       "min    -2.460000e+08  0.000000e+00       0.000000      0.000000   \n",
       "25%     0.000000e+00  0.000000e+00       0.000000      0.000000   \n",
       "50%     3.000000e+06  0.000000e+00       0.000000      0.000000   \n",
       "75%     4.000000e+07  0.000000e+00      42.000000      0.000000   \n",
       "max     4.268500e+11  5.504700e+10  739267.000000  17060.000000   \n",
       "\n",
       "          traitement  variation_stock  \n",
       "count   15605.000000     15605.000000  \n",
       "mean      141.280807        -6.690292  \n",
       "std      3992.567621       362.380787  \n",
       "min       -19.000000    -39863.000000  \n",
       "25%         0.000000         0.000000  \n",
       "50%         0.000000         0.000000  \n",
       "75%         0.000000         0.000000  \n",
       "max    326711.000000      5284.000000  "
      ]
     },
     "execution_count": 35,
     "metadata": {},
     "output_type": "execute_result"
    }
   ],
   "source": [
    "dispo_alimentaire.describe()"
   ]
  },
  {
   "cell_type": "markdown",
   "id": "4a8e4ae0",
   "metadata": {},
   "source": [
    "#### Fichier 4"
   ]
  },
  {
   "cell_type": "code",
   "execution_count": 36,
   "id": "7a0dffd4",
   "metadata": {},
   "outputs": [
    {
     "name": "stdout",
     "output_type": "stream",
     "text": [
      "<class 'pandas.core.frame.DataFrame'>\n",
      "RangeIndex: 1475 entries, 0 to 1474\n",
      "Data columns (total 4 columns):\n",
      " #   Column             Non-Null Count  Dtype \n",
      "---  ------             --------------  ----- \n",
      " 0   Pays bénéficiaire  1475 non-null   object\n",
      " 1   Année              1475 non-null   int64 \n",
      " 2   Produit            1475 non-null   object\n",
      " 3   Valeur             1475 non-null   int64 \n",
      "dtypes: int64(2), object(2)\n",
      "memory usage: 46.2+ KB\n"
     ]
    }
   ],
   "source": [
    "aide_alimentaire.info()"
   ]
  },
  {
   "cell_type": "markdown",
   "id": "853d9ad0",
   "metadata": {},
   "source": [
    "- dans notre jeu de données, il n'a pas des valeurs manquantes : il y a 1475 lignes pour chaques variables\n",
    "- les types de variables sont corrects"
   ]
  },
  {
   "cell_type": "code",
   "execution_count": 37,
   "id": "8b945fcf",
   "metadata": {},
   "outputs": [
    {
     "data": {
      "text/html": [
       "<div>\n",
       "<style scoped>\n",
       "    .dataframe tbody tr th:only-of-type {\n",
       "        vertical-align: middle;\n",
       "    }\n",
       "\n",
       "    .dataframe tbody tr th {\n",
       "        vertical-align: top;\n",
       "    }\n",
       "\n",
       "    .dataframe thead th {\n",
       "        text-align: right;\n",
       "    }\n",
       "</style>\n",
       "<table border=\"1\" class=\"dataframe\">\n",
       "  <thead>\n",
       "    <tr style=\"text-align: right;\">\n",
       "      <th></th>\n",
       "      <th>pays</th>\n",
       "      <th>annee</th>\n",
       "      <th>produit</th>\n",
       "      <th>qt_aide_kg</th>\n",
       "    </tr>\n",
       "  </thead>\n",
       "  <tbody>\n",
       "    <tr>\n",
       "      <th>0</th>\n",
       "      <td>Afghanistan</td>\n",
       "      <td>2013</td>\n",
       "      <td>Autres non-céréales</td>\n",
       "      <td>682</td>\n",
       "    </tr>\n",
       "    <tr>\n",
       "      <th>1</th>\n",
       "      <td>Afghanistan</td>\n",
       "      <td>2014</td>\n",
       "      <td>Autres non-céréales</td>\n",
       "      <td>335</td>\n",
       "    </tr>\n",
       "    <tr>\n",
       "      <th>2</th>\n",
       "      <td>Afghanistan</td>\n",
       "      <td>2013</td>\n",
       "      <td>Blé et Farin</td>\n",
       "      <td>39224</td>\n",
       "    </tr>\n",
       "    <tr>\n",
       "      <th>3</th>\n",
       "      <td>Afghanistan</td>\n",
       "      <td>2014</td>\n",
       "      <td>Blé et Farin</td>\n",
       "      <td>15160</td>\n",
       "    </tr>\n",
       "    <tr>\n",
       "      <th>4</th>\n",
       "      <td>Afghanistan</td>\n",
       "      <td>2013</td>\n",
       "      <td>Céréales</td>\n",
       "      <td>40504</td>\n",
       "    </tr>\n",
       "  </tbody>\n",
       "</table>\n",
       "</div>"
      ],
      "text/plain": [
       "          pays  annee              produit  qt_aide_kg\n",
       "0  Afghanistan   2013  Autres non-céréales         682\n",
       "1  Afghanistan   2014  Autres non-céréales         335\n",
       "2  Afghanistan   2013         Blé et Farin       39224\n",
       "3  Afghanistan   2014         Blé et Farin       15160\n",
       "4  Afghanistan   2013             Céréales       40504"
      ]
     },
     "execution_count": 37,
     "metadata": {},
     "output_type": "execute_result"
    }
   ],
   "source": [
    "# Renommer les colonnes\n",
    "aide_alimentaire = aide_alimentaire.rename(columns={\"Pays bénéficiaire\": \"pays\", \"Année\": \"annee\", \"Produit\": \"produit\", \"Valeur\": \"qt_aide_kg\"})\n",
    "aide_alimentaire.head(5)"
   ]
  },
  {
   "cell_type": "code",
   "execution_count": 38,
   "id": "20567936",
   "metadata": {},
   "outputs": [
    {
     "data": {
      "text/html": [
       "<div>\n",
       "<style scoped>\n",
       "    .dataframe tbody tr th:only-of-type {\n",
       "        vertical-align: middle;\n",
       "    }\n",
       "\n",
       "    .dataframe tbody tr th {\n",
       "        vertical-align: top;\n",
       "    }\n",
       "\n",
       "    .dataframe thead th {\n",
       "        text-align: right;\n",
       "    }\n",
       "</style>\n",
       "<table border=\"1\" class=\"dataframe\">\n",
       "  <thead>\n",
       "    <tr style=\"text-align: right;\">\n",
       "      <th></th>\n",
       "      <th>annee</th>\n",
       "      <th>qt_aide_kg</th>\n",
       "    </tr>\n",
       "  </thead>\n",
       "  <tbody>\n",
       "    <tr>\n",
       "      <th>count</th>\n",
       "      <td>1475.000000</td>\n",
       "      <td>1475.000000</td>\n",
       "    </tr>\n",
       "    <tr>\n",
       "      <th>mean</th>\n",
       "      <td>2014.054237</td>\n",
       "      <td>7481.966780</td>\n",
       "    </tr>\n",
       "    <tr>\n",
       "      <th>std</th>\n",
       "      <td>0.946916</td>\n",
       "      <td>23339.531424</td>\n",
       "    </tr>\n",
       "    <tr>\n",
       "      <th>min</th>\n",
       "      <td>2013.000000</td>\n",
       "      <td>0.000000</td>\n",
       "    </tr>\n",
       "    <tr>\n",
       "      <th>25%</th>\n",
       "      <td>2013.000000</td>\n",
       "      <td>287.500000</td>\n",
       "    </tr>\n",
       "    <tr>\n",
       "      <th>50%</th>\n",
       "      <td>2014.000000</td>\n",
       "      <td>1178.000000</td>\n",
       "    </tr>\n",
       "    <tr>\n",
       "      <th>75%</th>\n",
       "      <td>2015.000000</td>\n",
       "      <td>4334.500000</td>\n",
       "    </tr>\n",
       "    <tr>\n",
       "      <th>max</th>\n",
       "      <td>2016.000000</td>\n",
       "      <td>265013.000000</td>\n",
       "    </tr>\n",
       "  </tbody>\n",
       "</table>\n",
       "</div>"
      ],
      "text/plain": [
       "             annee     qt_aide_kg\n",
       "count  1475.000000    1475.000000\n",
       "mean   2014.054237    7481.966780\n",
       "std       0.946916   23339.531424\n",
       "min    2013.000000       0.000000\n",
       "25%    2013.000000     287.500000\n",
       "50%    2014.000000    1178.000000\n",
       "75%    2015.000000    4334.500000\n",
       "max    2016.000000  265013.000000"
      ]
     },
     "execution_count": 38,
     "metadata": {},
     "output_type": "execute_result"
    }
   ],
   "source": [
    "aide_alimentaire.describe()"
   ]
  },
  {
   "cell_type": "code",
   "execution_count": 39,
   "id": "7b9590f7",
   "metadata": {},
   "outputs": [
    {
     "data": {
      "text/html": [
       "<div>\n",
       "<style scoped>\n",
       "    .dataframe tbody tr th:only-of-type {\n",
       "        vertical-align: middle;\n",
       "    }\n",
       "\n",
       "    .dataframe tbody tr th {\n",
       "        vertical-align: top;\n",
       "    }\n",
       "\n",
       "    .dataframe thead th {\n",
       "        text-align: right;\n",
       "    }\n",
       "</style>\n",
       "<table border=\"1\" class=\"dataframe\">\n",
       "  <thead>\n",
       "    <tr style=\"text-align: right;\">\n",
       "      <th></th>\n",
       "      <th>annee</th>\n",
       "      <th>qt_aide_kg</th>\n",
       "    </tr>\n",
       "  </thead>\n",
       "  <tbody>\n",
       "    <tr>\n",
       "      <th>count</th>\n",
       "      <td>1475.000000</td>\n",
       "      <td>1.475000e+03</td>\n",
       "    </tr>\n",
       "    <tr>\n",
       "      <th>mean</th>\n",
       "      <td>2014.054237</td>\n",
       "      <td>7.481967e+06</td>\n",
       "    </tr>\n",
       "    <tr>\n",
       "      <th>std</th>\n",
       "      <td>0.946916</td>\n",
       "      <td>2.333953e+07</td>\n",
       "    </tr>\n",
       "    <tr>\n",
       "      <th>min</th>\n",
       "      <td>2013.000000</td>\n",
       "      <td>0.000000e+00</td>\n",
       "    </tr>\n",
       "    <tr>\n",
       "      <th>25%</th>\n",
       "      <td>2013.000000</td>\n",
       "      <td>2.875000e+05</td>\n",
       "    </tr>\n",
       "    <tr>\n",
       "      <th>50%</th>\n",
       "      <td>2014.000000</td>\n",
       "      <td>1.178000e+06</td>\n",
       "    </tr>\n",
       "    <tr>\n",
       "      <th>75%</th>\n",
       "      <td>2015.000000</td>\n",
       "      <td>4.334500e+06</td>\n",
       "    </tr>\n",
       "    <tr>\n",
       "      <th>max</th>\n",
       "      <td>2016.000000</td>\n",
       "      <td>2.650130e+08</td>\n",
       "    </tr>\n",
       "  </tbody>\n",
       "</table>\n",
       "</div>"
      ],
      "text/plain": [
       "             annee    qt_aide_kg\n",
       "count  1475.000000  1.475000e+03\n",
       "mean   2014.054237  7.481967e+06\n",
       "std       0.946916  2.333953e+07\n",
       "min    2013.000000  0.000000e+00\n",
       "25%    2013.000000  2.875000e+05\n",
       "50%    2014.000000  1.178000e+06\n",
       "75%    2015.000000  4.334500e+06\n",
       "max    2016.000000  2.650130e+08"
      ]
     },
     "execution_count": 39,
     "metadata": {},
     "output_type": "execute_result"
    }
   ],
   "source": [
    "# Convertir la quantité tonne en kg\n",
    "aide_alimentaire['qt_aide_kg'] = aide_alimentaire['qt_aide_kg'] * 1000\n",
    "aide_alimentaire.describe()"
   ]
  },
  {
   "cell_type": "code",
   "execution_count": 40,
   "id": "0d12f3ae",
   "metadata": {},
   "outputs": [
    {
     "data": {
      "text/plain": [
       "array(['Afghanistan', 'Algérie', 'Angola', 'Bangladesh', 'Bénin',\n",
       "       'Bhoutan', 'Bolivie (État plurinational de)', 'Burkina Faso',\n",
       "       'Burundi', 'Cambodge', 'Cameroun', 'Chine, continentale',\n",
       "       'Colombie', 'Comores', 'Congo', \"Côte d'Ivoire\", 'Cuba',\n",
       "       'Djibouti', 'Égypte', 'El Salvador', 'Équateur', 'Éthiopie',\n",
       "       'Gambie', 'Géorgie', 'Ghana', 'Guatemala', 'Guinée',\n",
       "       'Guinée-Bissau', 'Haïti', 'Honduras',\n",
       "       \"Iran (République islamique d')\", 'Iraq', 'Jordanie', 'Kenya',\n",
       "       'Kirghizistan', 'Lesotho', 'Liban', 'Libéria', 'Libye',\n",
       "       'Madagascar', 'Malawi', 'Mali', 'Mauritanie', 'Mozambique',\n",
       "       'Myanmar', 'Népal', 'Nicaragua', 'Niger', 'Ouganda', 'Pakistan',\n",
       "       'Palestine', 'Philippines', 'République arabe syrienne',\n",
       "       'République centrafricaine', 'République démocratique du Congo',\n",
       "       'République démocratique populaire lao', 'République dominicaine',\n",
       "       'République populaire démocratique de Corée',\n",
       "       'République-Unie de Tanzanie', 'Rwanda', 'Sao Tomé-et-Principe',\n",
       "       'Sénégal', 'Sierra Leone', 'Somalie', 'Soudan', 'Soudan du Sud',\n",
       "       'Sri Lanka', 'Swaziland', 'Tadjikistan', 'Tchad', 'Timor-Leste',\n",
       "       'Togo', 'Vanuatu', 'Yémen', 'Zambie', 'Zimbabwe'], dtype=object)"
      ]
     },
     "execution_count": 40,
     "metadata": {},
     "output_type": "execute_result"
    }
   ],
   "source": [
    "aide_alimentaire['pays'].unique()"
   ]
  },
  {
   "cell_type": "code",
   "execution_count": 41,
   "id": "c5358cba",
   "metadata": {},
   "outputs": [
    {
     "data": {
      "text/plain": [
       "array([  682000,   335000, 39224000, ...,    96000,  5022000,  2310000])"
      ]
     },
     "execution_count": 41,
     "metadata": {},
     "output_type": "execute_result"
    }
   ],
   "source": [
    "aide_alimentaire['qt_aide_kg'].unique()"
   ]
  },
  {
   "cell_type": "code",
   "execution_count": 42,
   "id": "b8c00ca5",
   "metadata": {},
   "outputs": [
    {
     "data": {
      "text/plain": [
       "array([2013, 2014, 2015, 2016])"
      ]
     },
     "execution_count": 42,
     "metadata": {},
     "output_type": "execute_result"
    }
   ],
   "source": [
    "aide_alimentaire['annee'].unique()"
   ]
  },
  {
   "cell_type": "markdown",
   "id": "f8ab201f",
   "metadata": {},
   "source": [
    "# Calcule des objectives demandé"
   ]
  },
  {
   "cell_type": "markdown",
   "id": "9c6482b7",
   "metadata": {},
   "source": [
    "### 1) La proportion de personnes en état de sous-nutrition en 2017"
   ]
  },
  {
   "cell_type": "code",
   "execution_count": 43,
   "id": "cfa84fdd",
   "metadata": {},
   "outputs": [
    {
     "data": {
      "text/plain": [
       "7548134097"
      ]
     },
     "execution_count": 43,
     "metadata": {},
     "output_type": "execute_result"
    }
   ],
   "source": [
    "# On sélectionne la population de 2017\n",
    "population_2017 = population.loc[population['annee']==2017]\n",
    "total_population_2017 = population_2017['nb_population'].sum()\n",
    "total_population_2017"
   ]
  },
  {
   "cell_type": "code",
   "execution_count": 44,
   "id": "ab07c127",
   "metadata": {},
   "outputs": [
    {
     "data": {
      "text/plain": [
       "536700000"
      ]
     },
     "execution_count": 44,
     "metadata": {},
     "output_type": "execute_result"
    }
   ],
   "source": [
    "# On sélectionne la population en sous nutrition de 2017\n",
    "pop_sous_nutrition_2017 = sous_nutrition.loc[sous_nutrition['annee']==2017]\n",
    "total_pop_sous_nutrition_2017 = pop_sous_nutrition_2017['nb_ss_alimente'].sum()\n",
    "total_pop_sous_nutrition_2017"
   ]
  },
  {
   "cell_type": "code",
   "execution_count": 45,
   "id": "015ca18f",
   "metadata": {},
   "outputs": [
    {
     "data": {
      "text/plain": [
       "7.110366523738774"
      ]
     },
     "execution_count": 45,
     "metadata": {},
     "output_type": "execute_result"
    }
   ],
   "source": [
    "# Calcul de La proportion\n",
    "proportion_personnes_sous_nutrition_2017 = (total_pop_sous_nutrition_2017 / total_population_2017)*100\n",
    "proportion_personnes_sous_nutrition_2017"
   ]
  },
  {
   "cell_type": "code",
   "execution_count": 46,
   "id": "6cdd25db",
   "metadata": {},
   "outputs": [
    {
     "name": "stdout",
     "output_type": "stream",
     "text": [
      "En 2017, 7.11 % de la population mondiale était en mal nutrition\n"
     ]
    }
   ],
   "source": [
    "# Affichage du résultat\n",
    "print(f'En 2017, {round(proportion_personnes_sous_nutrition_2017,2)} % de la population mondiale était en mal nutrition')"
   ]
  },
  {
   "cell_type": "markdown",
   "id": "92a898aa",
   "metadata": {},
   "source": [
    "### 2) Le nombre théorique de personnes qui pourraient être nourries à partir de la disponibilité alimentaire mondiale"
   ]
  },
  {
   "cell_type": "code",
   "execution_count": 47,
   "id": "9691563d",
   "metadata": {},
   "outputs": [
    {
     "data": {
      "text/html": [
       "<div>\n",
       "<style scoped>\n",
       "    .dataframe tbody tr th:only-of-type {\n",
       "        vertical-align: middle;\n",
       "    }\n",
       "\n",
       "    .dataframe tbody tr th {\n",
       "        vertical-align: top;\n",
       "    }\n",
       "\n",
       "    .dataframe thead th {\n",
       "        text-align: right;\n",
       "    }\n",
       "</style>\n",
       "<table border=\"1\" class=\"dataframe\">\n",
       "  <thead>\n",
       "    <tr style=\"text-align: right;\">\n",
       "      <th></th>\n",
       "      <th>pays</th>\n",
       "      <th>produit</th>\n",
       "      <th>origine_produit</th>\n",
       "      <th>aliments_animaux</th>\n",
       "      <th>autres_utilisations</th>\n",
       "      <th>dispo_alim_kcal_pers_j</th>\n",
       "      <th>dispo_alim_kg_pers_an</th>\n",
       "      <th>dispo_mat_grasse_g_pers_j</th>\n",
       "      <th>dispo_proteine_g_pers_j</th>\n",
       "      <th>dispo_interieure</th>\n",
       "      <th>qt_export</th>\n",
       "      <th>qt_import</th>\n",
       "      <th>nb_nourriture</th>\n",
       "      <th>perte</th>\n",
       "      <th>production</th>\n",
       "      <th>semences</th>\n",
       "      <th>traitement</th>\n",
       "      <th>variation_stock</th>\n",
       "      <th>annee</th>\n",
       "      <th>nb_population</th>\n",
       "    </tr>\n",
       "  </thead>\n",
       "  <tbody>\n",
       "    <tr>\n",
       "      <th>0</th>\n",
       "      <td>Afghanistan</td>\n",
       "      <td>Abats Comestible</td>\n",
       "      <td>animale</td>\n",
       "      <td>0.0</td>\n",
       "      <td>0.0</td>\n",
       "      <td>5.0</td>\n",
       "      <td>1720000.0</td>\n",
       "      <td>0.20</td>\n",
       "      <td>0.77</td>\n",
       "      <td>53000000.0</td>\n",
       "      <td>0.0</td>\n",
       "      <td>0.0</td>\n",
       "      <td>53000000.0</td>\n",
       "      <td>0.0</td>\n",
       "      <td>53.0</td>\n",
       "      <td>0.0</td>\n",
       "      <td>0.0</td>\n",
       "      <td>0.0</td>\n",
       "      <td>2017.0</td>\n",
       "      <td>36296113.0</td>\n",
       "    </tr>\n",
       "    <tr>\n",
       "      <th>1</th>\n",
       "      <td>Afghanistan</td>\n",
       "      <td>Agrumes, Autres</td>\n",
       "      <td>vegetale</td>\n",
       "      <td>0.0</td>\n",
       "      <td>0.0</td>\n",
       "      <td>1.0</td>\n",
       "      <td>1290000.0</td>\n",
       "      <td>0.01</td>\n",
       "      <td>0.02</td>\n",
       "      <td>41000000.0</td>\n",
       "      <td>2.0</td>\n",
       "      <td>40.0</td>\n",
       "      <td>39000000.0</td>\n",
       "      <td>2000000.0</td>\n",
       "      <td>3.0</td>\n",
       "      <td>0.0</td>\n",
       "      <td>0.0</td>\n",
       "      <td>0.0</td>\n",
       "      <td>2017.0</td>\n",
       "      <td>36296113.0</td>\n",
       "    </tr>\n",
       "    <tr>\n",
       "      <th>2</th>\n",
       "      <td>Afghanistan</td>\n",
       "      <td>Aliments pour enfants</td>\n",
       "      <td>vegetale</td>\n",
       "      <td>0.0</td>\n",
       "      <td>0.0</td>\n",
       "      <td>1.0</td>\n",
       "      <td>60000.0</td>\n",
       "      <td>0.01</td>\n",
       "      <td>0.03</td>\n",
       "      <td>2000000.0</td>\n",
       "      <td>0.0</td>\n",
       "      <td>2.0</td>\n",
       "      <td>2000000.0</td>\n",
       "      <td>0.0</td>\n",
       "      <td>0.0</td>\n",
       "      <td>0.0</td>\n",
       "      <td>0.0</td>\n",
       "      <td>0.0</td>\n",
       "      <td>2017.0</td>\n",
       "      <td>36296113.0</td>\n",
       "    </tr>\n",
       "    <tr>\n",
       "      <th>3</th>\n",
       "      <td>Afghanistan</td>\n",
       "      <td>Ananas</td>\n",
       "      <td>vegetale</td>\n",
       "      <td>0.0</td>\n",
       "      <td>0.0</td>\n",
       "      <td>0.0</td>\n",
       "      <td>0.0</td>\n",
       "      <td>0.00</td>\n",
       "      <td>0.00</td>\n",
       "      <td>0.0</td>\n",
       "      <td>0.0</td>\n",
       "      <td>0.0</td>\n",
       "      <td>0.0</td>\n",
       "      <td>0.0</td>\n",
       "      <td>0.0</td>\n",
       "      <td>0.0</td>\n",
       "      <td>0.0</td>\n",
       "      <td>0.0</td>\n",
       "      <td>2017.0</td>\n",
       "      <td>36296113.0</td>\n",
       "    </tr>\n",
       "    <tr>\n",
       "      <th>4</th>\n",
       "      <td>Afghanistan</td>\n",
       "      <td>Bananes</td>\n",
       "      <td>vegetale</td>\n",
       "      <td>0.0</td>\n",
       "      <td>0.0</td>\n",
       "      <td>4.0</td>\n",
       "      <td>2700000.0</td>\n",
       "      <td>0.02</td>\n",
       "      <td>0.05</td>\n",
       "      <td>82000000.0</td>\n",
       "      <td>0.0</td>\n",
       "      <td>82.0</td>\n",
       "      <td>82000000.0</td>\n",
       "      <td>0.0</td>\n",
       "      <td>0.0</td>\n",
       "      <td>0.0</td>\n",
       "      <td>0.0</td>\n",
       "      <td>0.0</td>\n",
       "      <td>2017.0</td>\n",
       "      <td>36296113.0</td>\n",
       "    </tr>\n",
       "    <tr>\n",
       "      <th>...</th>\n",
       "      <td>...</td>\n",
       "      <td>...</td>\n",
       "      <td>...</td>\n",
       "      <td>...</td>\n",
       "      <td>...</td>\n",
       "      <td>...</td>\n",
       "      <td>...</td>\n",
       "      <td>...</td>\n",
       "      <td>...</td>\n",
       "      <td>...</td>\n",
       "      <td>...</td>\n",
       "      <td>...</td>\n",
       "      <td>...</td>\n",
       "      <td>...</td>\n",
       "      <td>...</td>\n",
       "      <td>...</td>\n",
       "      <td>...</td>\n",
       "      <td>...</td>\n",
       "      <td>...</td>\n",
       "      <td>...</td>\n",
       "    </tr>\n",
       "    <tr>\n",
       "      <th>15600</th>\n",
       "      <td>Îles Salomon</td>\n",
       "      <td>Viande de Suides</td>\n",
       "      <td>animale</td>\n",
       "      <td>0.0</td>\n",
       "      <td>0.0</td>\n",
       "      <td>45.0</td>\n",
       "      <td>4700000.0</td>\n",
       "      <td>4.28</td>\n",
       "      <td>1.41</td>\n",
       "      <td>3000000.0</td>\n",
       "      <td>0.0</td>\n",
       "      <td>0.0</td>\n",
       "      <td>3000000.0</td>\n",
       "      <td>0.0</td>\n",
       "      <td>2.0</td>\n",
       "      <td>0.0</td>\n",
       "      <td>0.0</td>\n",
       "      <td>0.0</td>\n",
       "      <td>2017.0</td>\n",
       "      <td>636039.0</td>\n",
       "    </tr>\n",
       "    <tr>\n",
       "      <th>15601</th>\n",
       "      <td>Îles Salomon</td>\n",
       "      <td>Viande de Volailles</td>\n",
       "      <td>animale</td>\n",
       "      <td>0.0</td>\n",
       "      <td>0.0</td>\n",
       "      <td>11.0</td>\n",
       "      <td>3340000.0</td>\n",
       "      <td>0.69</td>\n",
       "      <td>1.14</td>\n",
       "      <td>2000000.0</td>\n",
       "      <td>0.0</td>\n",
       "      <td>2.0</td>\n",
       "      <td>2000000.0</td>\n",
       "      <td>0.0</td>\n",
       "      <td>0.0</td>\n",
       "      <td>0.0</td>\n",
       "      <td>0.0</td>\n",
       "      <td>0.0</td>\n",
       "      <td>2017.0</td>\n",
       "      <td>636039.0</td>\n",
       "    </tr>\n",
       "    <tr>\n",
       "      <th>15602</th>\n",
       "      <td>Îles Salomon</td>\n",
       "      <td>Viande, Autre</td>\n",
       "      <td>animale</td>\n",
       "      <td>0.0</td>\n",
       "      <td>0.0</td>\n",
       "      <td>0.0</td>\n",
       "      <td>60000.0</td>\n",
       "      <td>0.00</td>\n",
       "      <td>0.04</td>\n",
       "      <td>0.0</td>\n",
       "      <td>0.0</td>\n",
       "      <td>0.0</td>\n",
       "      <td>0.0</td>\n",
       "      <td>0.0</td>\n",
       "      <td>0.0</td>\n",
       "      <td>0.0</td>\n",
       "      <td>0.0</td>\n",
       "      <td>0.0</td>\n",
       "      <td>2017.0</td>\n",
       "      <td>636039.0</td>\n",
       "    </tr>\n",
       "    <tr>\n",
       "      <th>15603</th>\n",
       "      <td>Îles Salomon</td>\n",
       "      <td>Vin</td>\n",
       "      <td>vegetale</td>\n",
       "      <td>0.0</td>\n",
       "      <td>0.0</td>\n",
       "      <td>0.0</td>\n",
       "      <td>70000.0</td>\n",
       "      <td>0.00</td>\n",
       "      <td>0.00</td>\n",
       "      <td>0.0</td>\n",
       "      <td>0.0</td>\n",
       "      <td>0.0</td>\n",
       "      <td>0.0</td>\n",
       "      <td>0.0</td>\n",
       "      <td>0.0</td>\n",
       "      <td>0.0</td>\n",
       "      <td>0.0</td>\n",
       "      <td>0.0</td>\n",
       "      <td>2017.0</td>\n",
       "      <td>636039.0</td>\n",
       "    </tr>\n",
       "    <tr>\n",
       "      <th>15604</th>\n",
       "      <td>Îles Salomon</td>\n",
       "      <td>Épices, Autres</td>\n",
       "      <td>vegetale</td>\n",
       "      <td>0.0</td>\n",
       "      <td>0.0</td>\n",
       "      <td>4.0</td>\n",
       "      <td>480000.0</td>\n",
       "      <td>0.21</td>\n",
       "      <td>0.15</td>\n",
       "      <td>0.0</td>\n",
       "      <td>0.0</td>\n",
       "      <td>0.0</td>\n",
       "      <td>0.0</td>\n",
       "      <td>0.0</td>\n",
       "      <td>0.0</td>\n",
       "      <td>0.0</td>\n",
       "      <td>0.0</td>\n",
       "      <td>0.0</td>\n",
       "      <td>2017.0</td>\n",
       "      <td>636039.0</td>\n",
       "    </tr>\n",
       "  </tbody>\n",
       "</table>\n",
       "<p>15605 rows × 20 columns</p>\n",
       "</div>"
      ],
      "text/plain": [
       "               pays                produit origine_produit  aliments_animaux  \\\n",
       "0       Afghanistan       Abats Comestible         animale               0.0   \n",
       "1       Afghanistan        Agrumes, Autres        vegetale               0.0   \n",
       "2       Afghanistan  Aliments pour enfants        vegetale               0.0   \n",
       "3       Afghanistan                 Ananas        vegetale               0.0   \n",
       "4       Afghanistan                Bananes        vegetale               0.0   \n",
       "...             ...                    ...             ...               ...   \n",
       "15600  Îles Salomon       Viande de Suides         animale               0.0   \n",
       "15601  Îles Salomon    Viande de Volailles         animale               0.0   \n",
       "15602  Îles Salomon          Viande, Autre         animale               0.0   \n",
       "15603  Îles Salomon                    Vin        vegetale               0.0   \n",
       "15604  Îles Salomon         Épices, Autres        vegetale               0.0   \n",
       "\n",
       "       autres_utilisations  dispo_alim_kcal_pers_j  dispo_alim_kg_pers_an  \\\n",
       "0                      0.0                     5.0              1720000.0   \n",
       "1                      0.0                     1.0              1290000.0   \n",
       "2                      0.0                     1.0                60000.0   \n",
       "3                      0.0                     0.0                    0.0   \n",
       "4                      0.0                     4.0              2700000.0   \n",
       "...                    ...                     ...                    ...   \n",
       "15600                  0.0                    45.0              4700000.0   \n",
       "15601                  0.0                    11.0              3340000.0   \n",
       "15602                  0.0                     0.0                60000.0   \n",
       "15603                  0.0                     0.0                70000.0   \n",
       "15604                  0.0                     4.0               480000.0   \n",
       "\n",
       "       dispo_mat_grasse_g_pers_j  dispo_proteine_g_pers_j  dispo_interieure  \\\n",
       "0                           0.20                     0.77        53000000.0   \n",
       "1                           0.01                     0.02        41000000.0   \n",
       "2                           0.01                     0.03         2000000.0   \n",
       "3                           0.00                     0.00               0.0   \n",
       "4                           0.02                     0.05        82000000.0   \n",
       "...                          ...                      ...               ...   \n",
       "15600                       4.28                     1.41         3000000.0   \n",
       "15601                       0.69                     1.14         2000000.0   \n",
       "15602                       0.00                     0.04               0.0   \n",
       "15603                       0.00                     0.00               0.0   \n",
       "15604                       0.21                     0.15               0.0   \n",
       "\n",
       "       qt_export  qt_import  nb_nourriture      perte  production  semences  \\\n",
       "0            0.0        0.0     53000000.0        0.0        53.0       0.0   \n",
       "1            2.0       40.0     39000000.0  2000000.0         3.0       0.0   \n",
       "2            0.0        2.0      2000000.0        0.0         0.0       0.0   \n",
       "3            0.0        0.0            0.0        0.0         0.0       0.0   \n",
       "4            0.0       82.0     82000000.0        0.0         0.0       0.0   \n",
       "...          ...        ...            ...        ...         ...       ...   \n",
       "15600        0.0        0.0      3000000.0        0.0         2.0       0.0   \n",
       "15601        0.0        2.0      2000000.0        0.0         0.0       0.0   \n",
       "15602        0.0        0.0            0.0        0.0         0.0       0.0   \n",
       "15603        0.0        0.0            0.0        0.0         0.0       0.0   \n",
       "15604        0.0        0.0            0.0        0.0         0.0       0.0   \n",
       "\n",
       "       traitement  variation_stock   annee  nb_population  \n",
       "0             0.0              0.0  2017.0     36296113.0  \n",
       "1             0.0              0.0  2017.0     36296113.0  \n",
       "2             0.0              0.0  2017.0     36296113.0  \n",
       "3             0.0              0.0  2017.0     36296113.0  \n",
       "4             0.0              0.0  2017.0     36296113.0  \n",
       "...           ...              ...     ...            ...  \n",
       "15600         0.0              0.0  2017.0       636039.0  \n",
       "15601         0.0              0.0  2017.0       636039.0  \n",
       "15602         0.0              0.0  2017.0       636039.0  \n",
       "15603         0.0              0.0  2017.0       636039.0  \n",
       "15604         0.0              0.0  2017.0       636039.0  \n",
       "\n",
       "[15605 rows x 20 columns]"
      ]
     },
     "execution_count": 47,
     "metadata": {},
     "output_type": "execute_result"
    }
   ],
   "source": [
    "#On croise les données de la population mondiale avec la disponibilité alimentaire par pays\n",
    "dispo_alim_pop_2017 = pd.merge(dispo_alimentaire, population_2017, how='left', on='pays')\n",
    "dispo_alim_pop_2017"
   ]
  },
  {
   "cell_type": "code",
   "execution_count": 53,
   "id": "fd70efca",
   "metadata": {
    "scrolled": true
   },
   "outputs": [
    {
     "data": {
      "text/plain": [
       "9848994000000.0"
      ]
     },
     "execution_count": 53,
     "metadata": {},
     "output_type": "execute_result"
    }
   ],
   "source": [
    "# La disposition alimentaire en millier de tonne converti en kg\n",
    "dispo_alimentaire_2017 = dispo_alimentaire['dispo_interieure'].sum()\n",
    "dispo_alimentaire_2017"
   ]
  },
  {
   "cell_type": "code",
   "execution_count": 54,
   "id": "d6512fec",
   "metadata": {},
   "outputs": [
    {
     "data": {
      "text/plain": [
       "4876258000000.0"
      ]
     },
     "execution_count": 54,
     "metadata": {},
     "output_type": "execute_result"
    }
   ],
   "source": [
    "total_nb_nourriture = dispo_alimentaire['nb_nourriture'].sum()\n",
    "total_nb_nourriture\n"
   ]
  },
  {
   "cell_type": "code",
   "execution_count": 55,
   "id": "e8a373ea",
   "metadata": {
    "scrolled": true
   },
   "outputs": [
    {
     "data": {
      "text/plain": [
       "122201940000.0"
      ]
     },
     "execution_count": 55,
     "metadata": {},
     "output_type": "execute_result"
    }
   ],
   "source": [
    "# La disposition alimentaire en millier de tonne converti en kg\n",
    "total_dispo_alim_kg_pers_an = dispo_alimentaire['dispo_alim_kg_pers_an'].sum()\n",
    "total_dispo_alim_kg_pers_an"
   ]
  },
  {
   "cell_type": "code",
   "execution_count": 56,
   "id": "2686602f",
   "metadata": {},
   "outputs": [
    {
     "data": {
      "text/plain": [
       "80.5960527304231"
      ]
     },
     "execution_count": 56,
     "metadata": {},
     "output_type": "execute_result"
    }
   ],
   "source": [
    "dispo_alimentaire_2017/total_dispo_alim_kg_pers_an"
   ]
  },
  {
   "cell_type": "code",
   "execution_count": 57,
   "id": "e7b834e3",
   "metadata": {},
   "outputs": [
    {
     "data": {
      "text/plain": [
       "495442.0"
      ]
     },
     "execution_count": 57,
     "metadata": {},
     "output_type": "execute_result"
    }
   ],
   "source": [
    "total_dispo_alim_kcal_pers_j = dispo_alimentaire['dispo_alim_kcal_pers_j'].sum()\n",
    "total_dispo_alim_kcal_pers_j"
   ]
  },
  {
   "cell_type": "code",
   "execution_count": 58,
   "id": "fd02acf1",
   "metadata": {},
   "outputs": [],
   "source": [
    "# Besoin calorique par personne H/F en moyenne par jour\n",
    "besoin_kcal_perosnne_moyenne_j = 2500"
   ]
  },
  {
   "cell_type": "code",
   "execution_count": 59,
   "id": "3a2d0e53",
   "metadata": {},
   "outputs": [
    {
     "data": {
      "text/plain": [
       "198.1768"
      ]
     },
     "execution_count": 59,
     "metadata": {},
     "output_type": "execute_result"
    }
   ],
   "source": [
    "# Le nombre de personnes thérique à nourir en 2017 en kg par personne\n",
    "nb_theorique_personne_a_nourir = total_dispo_alim_kcal_pers_j / besoin_kcal_perosnne_moyenne_j \n",
    "nb_theorique_personne_a_nourir"
   ]
  },
  {
   "cell_type": "code",
   "execution_count": null,
   "id": "8fe9d630",
   "metadata": {},
   "outputs": [],
   "source": []
  },
  {
   "cell_type": "code",
   "execution_count": null,
   "id": "9b809b4f",
   "metadata": {},
   "outputs": [],
   "source": []
  },
  {
   "cell_type": "code",
   "execution_count": null,
   "id": "00200c65",
   "metadata": {},
   "outputs": [],
   "source": []
  },
  {
   "cell_type": "code",
   "execution_count": null,
   "id": "a4e4a8ac",
   "metadata": {},
   "outputs": [],
   "source": []
  }
 ],
 "metadata": {
  "kernelspec": {
   "display_name": "Python 3 (ipykernel)",
   "language": "python",
   "name": "python3"
  },
  "language_info": {
   "codemirror_mode": {
    "name": "ipython",
    "version": 3
   },
   "file_extension": ".py",
   "mimetype": "text/x-python",
   "name": "python",
   "nbconvert_exporter": "python",
   "pygments_lexer": "ipython3",
   "version": "3.9.13"
  }
 },
 "nbformat": 4,
 "nbformat_minor": 5
}
